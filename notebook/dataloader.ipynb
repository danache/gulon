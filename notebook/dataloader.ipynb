{
 "cells": [
  {
   "cell_type": "code",
   "execution_count": 2,
   "metadata": {
    "collapsed": true
   },
   "outputs": [],
   "source": [
    "import mxnet as mx\n",
    "data_iter = mx.io.ImageRecordIter(\n",
    "  path_imgrec=\"/home/dan/test_img/train.rec\", # The target record file.\n",
    "  # Output data shape; 227x227 region will be cropped from the original image.\n",
    "  data_shape=(3, 256, 256),\n",
    "    batch_size=1, # Number of items per batch.\n",
    "    max_rotate_angle=30,\n",
    "    rand_mirror=True,\n",
    "    random_h=50,\n",
    "    random_s=50,\n",
    "    random_l=50,\n",
    "    max_random_scale=1.25,\n",
    "  # You can specify more augmentation options. Use help(mx.io.ImageRecordIter) to see all the options.\n",
    "  )"
   ]
  },
  {
   "cell_type": "code",
   "execution_count": 3,
   "metadata": {},
   "outputs": [
    {
     "name": "stderr",
     "output_type": "stream",
     "text": [
      "Using TensorFlow backend.\n"
     ]
    }
   ],
   "source": [
    "import keras"
   ]
  },
  {
   "cell_type": "code",
   "execution_count": 1,
   "metadata": {},
   "outputs": [
    {
     "name": "stderr",
     "output_type": "stream",
     "text": [
      "Using TensorFlow backend.\n"
     ]
    },
    {
     "name": "stdout",
     "output_type": "stream",
     "text": [
      "Epoch 1/20\n",
      "1000/1000 [==============================] - 1s - loss: 2.4293 - acc: 0.0910     \n",
      "Epoch 2/20\n",
      "1000/1000 [==============================] - 0s - loss: 2.3685 - acc: 0.0890     \n",
      "Epoch 3/20\n",
      "1000/1000 [==============================] - 0s - loss: 2.3413 - acc: 0.1020     \n",
      "Epoch 4/20\n",
      "1000/1000 [==============================] - 0s - loss: 2.3347 - acc: 0.0910     \n",
      "Epoch 5/20\n",
      "1000/1000 [==============================] - 0s - loss: 2.3177 - acc: 0.1210     \n",
      "Epoch 6/20\n",
      "1000/1000 [==============================] - 0s - loss: 2.3125 - acc: 0.0980     \n",
      "Epoch 7/20\n",
      "1000/1000 [==============================] - 0s - loss: 2.3043 - acc: 0.1020     \n",
      "Epoch 8/20\n",
      "1000/1000 [==============================] - 0s - loss: 2.3123 - acc: 0.0870     \n",
      "Epoch 9/20\n",
      "1000/1000 [==============================] - 0s - loss: 2.3071 - acc: 0.1250     \n",
      "Epoch 10/20\n",
      "1000/1000 [==============================] - 0s - loss: 2.3010 - acc: 0.1170     \n",
      "Epoch 11/20\n",
      "1000/1000 [==============================] - 0s - loss: 2.3076 - acc: 0.1100     \n",
      "Epoch 12/20\n",
      "1000/1000 [==============================] - 0s - loss: 2.3009 - acc: 0.1110     \n",
      "Epoch 13/20\n",
      "1000/1000 [==============================] - 0s - loss: 2.3084 - acc: 0.0930     \n",
      "Epoch 14/20\n",
      "1000/1000 [==============================] - 0s - loss: 2.2998 - acc: 0.1140     \n",
      "Epoch 15/20\n",
      "1000/1000 [==============================] - 0s - loss: 2.3025 - acc: 0.1100     \n",
      "Epoch 16/20\n",
      "1000/1000 [==============================] - 0s - loss: 2.3005 - acc: 0.1050     \n",
      "Epoch 17/20\n",
      "1000/1000 [==============================] - 0s - loss: 2.2977 - acc: 0.1070     \n",
      "Epoch 18/20\n",
      "1000/1000 [==============================] - 0s - loss: 2.3010 - acc: 0.1010     \n",
      "Epoch 19/20\n",
      "1000/1000 [==============================] - 0s - loss: 2.3030 - acc: 0.0960     \n",
      "Epoch 20/20\n",
      "1000/1000 [==============================] - 0s - loss: 2.2977 - acc: 0.1090     \n",
      "100/100 [==============================] - 0s\n"
     ]
    }
   ],
   "source": [
    "import keras\n",
    "from keras.models import Sequential\n",
    "from keras.layers import Dense, Dropout, Activation\n",
    "from keras.optimizers import SGD\n",
    "\n",
    "# Generate dummy data\n",
    "import numpy as np\n",
    "x_train = np.random.random((1000, 20))\n",
    "y_train = keras.utils.to_categorical(np.random.randint(10, size=(1000, 1)), num_classes=10)\n",
    "x_test = np.random.random((100, 20))\n",
    "y_test = keras.utils.to_categorical(np.random.randint(10, size=(100, 1)), num_classes=10)\n",
    "\n",
    "model = Sequential()\n",
    "# Dense(64) is a fully-connected layer with 64 hidden units.\n",
    "# in the first layer, you must specify the expected input data shape:\n",
    "# here, 20-dimensional vectors.\n",
    "model.add(Dense(64, activation='relu', input_dim=20))\n",
    "model.add(Dropout(0.5))\n",
    "model.add(Dense(64, activation='relu'))\n",
    "model.add(Dropout(0.5))\n",
    "model.add(Dense(10, activation='softmax'))\n",
    "\n",
    "sgd = SGD(lr=0.01, decay=1e-6, momentum=0.9, nesterov=True\n",
    "          \n",
    "model.compile(loss='categorical_crossentropy',\n",
    "              optimizer=sgd,\n",
    "              metrics=['accuracy'])\n",
    "\n",
    "model.fit(x_train, y_train,\n",
    "          epochs=20,\n",
    "          batch_size=128)\n",
    "score = model.evaluate(x_test, y_test, batch_size=128)"
   ]
  },
  {
   "cell_type": "code",
   "execution_count": 3,
   "metadata": {},
   "outputs": [
    {
     "data": {
      "text/plain": [
       "[2.3037292957305908, 0.079999998211860657]"
      ]
     },
     "execution_count": 3,
     "metadata": {},
     "output_type": "execute_result"
    }
   ],
   "source": [
    "score"
   ]
  },
  {
   "cell_type": "code",
   "execution_count": null,
   "metadata": {
    "collapsed": true
   },
   "outputs": [],
   "source": []
  }
 ],
 "metadata": {
  "kernelspec": {
   "display_name": "tensorflow",
   "language": "python",
   "name": "tensorflow"
  },
  "language_info": {
   "codemirror_mode": {
    "name": "ipython",
    "version": 3
   },
   "file_extension": ".py",
   "mimetype": "text/x-python",
   "name": "python",
   "nbconvert_exporter": "python",
   "pygments_lexer": "ipython3",
   "version": "3.6.1"
  }
 },
 "nbformat": 4,
 "nbformat_minor": 2
}
