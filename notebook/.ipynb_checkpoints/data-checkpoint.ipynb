{
 "cells": [
  {
   "cell_type": "markdown",
   "metadata": {},
   "source": [
    "# Iterators - Loading data\n",
    "In this tutorial, we focus on how to feed data into a training or inference program.\n",
    "Most training and inference modules in MXNet accept data iterators,\n",
    "which simplifies this procedure, especially when reading large datasets.\n",
    "Here we discuss the API conventions and several provided iterators.\n",
    "\n",
    "## Prerequisites\n",
    "\n",
    "To complete this tutorial, we need:  \n",
    "\n",
    "- MXNet. See the instructions for your operating system in [Setup and Installation](http://mxnet.io/get_started/install.html).  \n",
    "\n",
    "- [OpenCV Python library](http://opencv.org/opencv-3-2.html),  [Python Requests](http://docs.python-requests.org/en/master/), [Matplotlib](https://matplotlib.org/) and [Jupyter Notebook](http://jupyter.org/index.html).\n",
    "\n",
    "```\n",
    "$ pip install opencv-python requests matplotlib jupyter\n",
    "```\n",
    "- Set the environment variable `MXNET_HOME` to the root of the MXNet source folder.  \n",
    "\n",
    "```\n",
    "$ git clone https://github.com/dmlc/mxnet ~/mxnet\n",
    "$ export MXNET_HOME='~/mxnet'\n",
    "```\n",
    "\n",
    "## MXNet Data Iterator  \n",
    "Data Iterators in *MXNet* are similar to Python iterator objects.\n",
    "In Python, the function `iter` allows fetching items sequentially by calling  `next()` on\n",
    " iterable objects such as a Python `list`.\n",
    "Iterators provide an abstract interface for traversing various types of iterable collections\n",
    " without needing to expose details about the underlying data source.\n",
    "\n",
    "In MXNet, data iterators return a batch of data as `DataBatch` on each call to `next`.\n",
    "A `DataBatch` often contains *n* training examples and their corresponding labels. Here *n* is the `batch_size` of the iterator. At the end of the data stream when there is no more data to read, the iterator raises ``StopIteration`` exception like Python `iter`. \n",
    "The structure of `DataBatch` is defined [here](http://mxnet.io/api/python/io.html#mxnet.io.DataBatch).\n",
    "\n",
    "Information such as name, shape, type and layout on each training example and their corresponding label can be provided as `DataDesc` data descriptor objects via the `provide_data` and `provide_label` properties in `DataBatch`.\n",
    "The structure of `DataDesc` is defined [here](http://mxnet.io/api/python/io.html#mxnet.io.DataDesc).\n",
    "\n",
    "All IO in MXNet is handled via `mx.io.DataIter` and its subclasses. In this tutorial, we'll discuss a few commonly used iterators provided by MXNet.\n",
    "\n",
    "Before diving into the details let's setup the environment by importing some required packages:"
   ]
  },
  {
   "cell_type": "code",
   "execution_count": 1,
   "metadata": {
    "collapsed": true
   },
   "outputs": [],
   "source": [
    "import mxnet as mx\n",
    "%matplotlib inline\n",
    "import os\n",
    "import subprocess\n",
    "import numpy as np\n",
    "import matplotlib.pyplot as plt\n",
    "import tarfile\n",
    "\n",
    "import warnings\n",
    "warnings.filterwarnings(\"ignore\", category=DeprecationWarning)"
   ]
  },
  {
   "cell_type": "markdown",
   "metadata": {},
   "source": [
    "## Reading data in memory\n",
    "When data is stored in memory, backed by either an `NDArray` or ``numpy`` `ndarray`,\n",
    "we can use the [__`NDArrayIter`__](http://mxnet.io/api/python/io.html#mxnet.io.NDArrayIter) to read data as below:"
   ]
  },
  {
   "cell_type": "code",
   "execution_count": 2,
   "metadata": {},
   "outputs": [
    {
     "name": "stdout",
     "output_type": "stream",
     "text": [
      "[[\n",
      "[[ 0.92640728  0.72074735  0.78027618]\n",
      " [ 0.78830332  0.38218057  0.68253231]\n",
      " [ 0.21027057  0.83625007  0.24577554]\n",
      " [ 0.76189554  0.87755024  0.5715453 ]\n",
      " [ 0.63684803  0.42350972  0.42498267]\n",
      " [ 0.21436049  0.62168783  0.71450412]\n",
      " [ 0.15391012  0.54260969  0.47475082]\n",
      " [ 0.88939637  0.34722126  0.63033408]\n",
      " [ 0.26806831  0.94700789  0.69465816]\n",
      " [ 0.36793545  0.10805659  0.64202231]\n",
      " [ 0.57519704  0.16434141  0.13740252]\n",
      " [ 0.84251618  0.82212573  0.99032253]\n",
      " [ 0.35666713  0.20274083  0.74363065]\n",
      " [ 0.14639507  0.13366038  0.61607456]\n",
      " [ 0.44775453  0.10133909  0.1911861 ]\n",
      " [ 0.50419283  0.68332189  0.19474211]\n",
      " [ 0.09596543  0.5015046   0.2227471 ]\n",
      " [ 0.85056913  0.82216865  0.7124337 ]\n",
      " [ 0.66423225  0.36235139  0.40358573]\n",
      " [ 0.03496303  0.0872277   0.40765026]\n",
      " [ 0.26033637  0.35909438  0.2384818 ]\n",
      " [ 0.6682961   0.66739947  0.47058749]\n",
      " [ 0.67410958  0.13647884  0.70442462]\n",
      " [ 0.10279379  0.50044674  0.05693946]\n",
      " [ 0.19601096  0.45591757  0.88229686]\n",
      " [ 0.32106015  0.29202017  0.64573509]\n",
      " [ 0.25434953  0.04915644  0.81578672]\n",
      " [ 0.25753015  0.02805802  0.3441506 ]\n",
      " [ 0.50212294  0.52699977  0.41688445]\n",
      " [ 0.05976522  0.59979481  0.45810479]]\n",
      "<NDArray 30x3 @cpu(0)>], [\n",
      "[ 4.  6.  6.  4.  8.  4.  1.  6.  9.  6.  5.  7.  8.  2.  8.  1.  6.  0.\n",
      "  8.  6.  2.  4.  5.  4.  6.  1.  2.  4.  9.  7.]\n",
      "<NDArray 30 @cpu(0)>], 0]\n",
      "[[\n",
      "[[ 0.55751187  0.54140037  0.15186565]\n",
      " [ 0.60665065  0.35231212  0.44168717]\n",
      " [ 0.85749233  0.83371234  0.77489287]\n",
      " [ 0.09200837  0.49825177  0.15936062]\n",
      " [ 0.67605555  0.51758671  0.99064159]\n",
      " [ 0.06657603  0.80596513  0.51625013]\n",
      " [ 0.63593692  0.47746947  0.9398216 ]\n",
      " [ 0.68301582  0.33368298  0.9687897 ]\n",
      " [ 0.86740589  0.97302413  0.9762063 ]\n",
      " [ 0.49031559  0.90505636  0.87785977]\n",
      " [ 0.77313691  0.33485857  0.05304261]\n",
      " [ 0.52668637  0.13757664  0.94028455]\n",
      " [ 0.04932173  0.4861916   0.4438481 ]\n",
      " [ 0.58049655  0.46690619  0.2144995 ]\n",
      " [ 0.02572905  0.24980231  0.89542216]\n",
      " [ 0.85124975  0.6350525   0.15420876]\n",
      " [ 0.32524768  0.37950122  0.55391461]\n",
      " [ 0.35789639  0.39706972  0.56941432]\n",
      " [ 0.28571543  0.65783638  0.67257959]\n",
      " [ 0.30900446  0.75030959  0.45056504]\n",
      " [ 0.84206247  0.72152007  0.34542063]\n",
      " [ 0.73627543  0.77381891  0.58124095]\n",
      " [ 0.84919584  0.63201255  0.7017023 ]\n",
      " [ 0.85478646  0.74555647  0.6529581 ]\n",
      " [ 0.25708953  0.75902975  0.17308524]\n",
      " [ 0.42599455  0.47444776  0.21980681]\n",
      " [ 0.97272128  0.69619268  0.3641634 ]\n",
      " [ 0.76461387  0.22767949  0.17520535]\n",
      " [ 0.66488326  0.70038402  0.41092274]\n",
      " [ 0.23497593  0.08721757  0.98244512]]\n",
      "<NDArray 30x3 @cpu(0)>], [\n",
      "[ 2.  3.  0.  1.  8.  8.  3.  2.  8.  8.  8.  5.  3.  0.  9.  6.  8.  7.\n",
      "  9.  3.  9.  9.  3.  3.  2.  7.  1.  6.  6.  4.]\n",
      "<NDArray 30 @cpu(0)>], 0]\n",
      "[[\n",
      "[[ 0.41169927  0.61612386  0.83899778]\n",
      " [ 0.59970778  0.04205248  0.53115737]\n",
      " [ 0.86280841  0.7308225   0.49005482]\n",
      " [ 0.57693052  0.80607998  0.36536759]\n",
      " [ 0.60450125  0.08879301  0.27798024]\n",
      " [ 0.09663573  0.09336619  0.33301449]\n",
      " [ 0.50036019  0.3531929   0.83442277]\n",
      " [ 0.93395698  0.98667246  0.90583986]\n",
      " [ 0.90005559  0.75641137  0.71707302]\n",
      " [ 0.65539676  0.84597886  0.30816135]\n",
      " [ 0.11512283  0.6257233   0.90840065]\n",
      " [ 0.38910207  0.85827857  0.18284126]\n",
      " [ 0.01265754  0.78948128  0.9218545 ]\n",
      " [ 0.64379489  0.29884186  0.8615343 ]\n",
      " [ 0.57432634  0.07136158  0.77823406]\n",
      " [ 0.28681713  0.47911149  0.17054661]\n",
      " [ 0.07303894  0.77985287  0.59867752]\n",
      " [ 0.58421427  0.82028097  0.77913737]\n",
      " [ 0.09972505  0.02242541  0.71381557]\n",
      " [ 0.47871295  0.58255774  0.95042777]\n",
      " [ 0.95473528  0.35117096  0.0434185 ]\n",
      " [ 0.37890026  0.82184792  0.66986936]\n",
      " [ 0.29379806  0.62926084  0.49301028]\n",
      " [ 0.10510261  0.58912677  0.91746026]\n",
      " [ 0.69655788  0.62395674  0.04908732]\n",
      " [ 0.92325872  0.76123536  0.37001446]\n",
      " [ 0.74287802  0.1860251   0.57631779]\n",
      " [ 0.22596808  0.4854497   0.86097556]\n",
      " [ 0.69294858  0.72700822  0.42553219]\n",
      " [ 0.09211729  0.68445092  0.83925056]]\n",
      "<NDArray 30x3 @cpu(0)>], [\n",
      "[ 7.  8.  9.  2.  7.  0.  5.  7.  3.  9.  2.  9.  2.  1.  1.  6.  6.  2.\n",
      "  7.  0.  1.  7.  2.  9.  9.  2.  4.  2.  9.  4.]\n",
      "<NDArray 30 @cpu(0)>], 0]\n",
      "[[\n",
      "[[ 0.24275769  0.56484491  0.40877515]\n",
      " [ 0.9599641   0.74085873  0.89430022]\n",
      " [ 0.88107157  0.40102991  0.7277202 ]\n",
      " [ 0.29920369  0.66487789  0.41658223]\n",
      " [ 0.91551721  0.16822591  0.06819616]\n",
      " [ 0.06962866  0.13437845  0.67386848]\n",
      " [ 0.2812728   0.74096429  0.70320743]\n",
      " [ 0.26411471  0.52145725  0.08948217]\n",
      " [ 0.24404161  0.73877764  0.56616896]\n",
      " [ 0.18954371  0.88860291  0.62849396]\n",
      " [ 0.92640728  0.72074735  0.78027618]\n",
      " [ 0.78830332  0.38218057  0.68253231]\n",
      " [ 0.21027057  0.83625007  0.24577554]\n",
      " [ 0.76189554  0.87755024  0.5715453 ]\n",
      " [ 0.63684803  0.42350972  0.42498267]\n",
      " [ 0.21436049  0.62168783  0.71450412]\n",
      " [ 0.15391012  0.54260969  0.47475082]\n",
      " [ 0.88939637  0.34722126  0.63033408]\n",
      " [ 0.26806831  0.94700789  0.69465816]\n",
      " [ 0.36793545  0.10805659  0.64202231]\n",
      " [ 0.57519704  0.16434141  0.13740252]\n",
      " [ 0.84251618  0.82212573  0.99032253]\n",
      " [ 0.35666713  0.20274083  0.74363065]\n",
      " [ 0.14639507  0.13366038  0.61607456]\n",
      " [ 0.44775453  0.10133909  0.1911861 ]\n",
      " [ 0.50419283  0.68332189  0.19474211]\n",
      " [ 0.09596543  0.5015046   0.2227471 ]\n",
      " [ 0.85056913  0.82216865  0.7124337 ]\n",
      " [ 0.66423225  0.36235139  0.40358573]\n",
      " [ 0.03496303  0.0872277   0.40765026]]\n",
      "<NDArray 30x3 @cpu(0)>], [\n",
      "[ 8.  8.  5.  0.  6.  1.  4.  1.  6.  5.  4.  6.  6.  4.  8.  4.  1.  6.\n",
      "  9.  6.  5.  7.  8.  2.  8.  1.  6.  0.  8.  6.]\n",
      "<NDArray 30 @cpu(0)>], 20]\n"
     ]
    }
   ],
   "source": [
    "import numpy as np\n",
    "data = np.random.rand(100,3)\n",
    "label = np.random.randint(0, 10, (100,))\n",
    "data_iter = mx.io.NDArrayIter(data=data, label=label, batch_size=30)\n",
    "for batch in data_iter:\n",
    "    print([batch.data, batch.label, batch.pad])"
   ]
  },
  {
   "cell_type": "markdown",
   "metadata": {},
   "source": [
    "## Reading data from CSV files\n",
    "MXNet provides [`CSVIter`](http://mxnet.io/api/python/io.html#mxnet.io.CSVIter)\n",
    "to read from CSV files and can be used as below:"
   ]
  },
  {
   "cell_type": "code",
   "execution_count": 3,
   "metadata": {},
   "outputs": [
    {
     "name": "stdout",
     "output_type": "stream",
     "text": [
      "[[\n",
      "[[ 0.92640734  0.72074735  0.78027618]\n",
      " [ 0.78830326  0.38218057  0.68253231]\n",
      " [ 0.21027057  0.83625001  0.24577554]\n",
      " [ 0.76189554  0.87755024  0.57154524]\n",
      " [ 0.63684809  0.42350969  0.42498264]\n",
      " [ 0.21436048  0.62168777  0.71450412]\n",
      " [ 0.15391012  0.54260969  0.47475082]\n",
      " [ 0.88939637  0.34722126  0.63033408]\n",
      " [ 0.26806831  0.94700783  0.69465816]\n",
      " [ 0.36793545  0.10805659  0.64202231]\n",
      " [ 0.5751971   0.16434141  0.1374025 ]\n",
      " [ 0.84251612  0.82212573  0.99032247]\n",
      " [ 0.35666713  0.20274083  0.74363071]\n",
      " [ 0.14639506  0.13366039  0.61607456]\n",
      " [ 0.44775453  0.10133909  0.1911861 ]\n",
      " [ 0.50419283  0.68332189  0.19474211]\n",
      " [ 0.09596542  0.50150454  0.22274709]\n",
      " [ 0.85056913  0.82216865  0.7124337 ]\n",
      " [ 0.66423225  0.36235139  0.40358576]\n",
      " [ 0.03496303  0.08722769  0.40765029]\n",
      " [ 0.26033637  0.35909438  0.2384818 ]\n",
      " [ 0.6682961   0.66739947  0.47058749]\n",
      " [ 0.67410958  0.13647886  0.70442462]\n",
      " [ 0.10279379  0.50044668  0.05693946]\n",
      " [ 0.19601096  0.45591754  0.88229686]\n",
      " [ 0.32106015  0.29202017  0.64573509]\n",
      " [ 0.25434953  0.04915644  0.81578672]\n",
      " [ 0.25753015  0.02805802  0.3441506 ]\n",
      " [ 0.502123    0.52699977  0.41688442]\n",
      " [ 0.05976522  0.59979481  0.45810479]]\n",
      "<NDArray 30x3 @cpu(0)>], 0]\n",
      "[[\n",
      "[[ 0.55751187  0.54140037  0.15186565]\n",
      " [ 0.60665065  0.35231215  0.44168717]\n",
      " [ 0.85749233  0.83371228  0.77489287]\n",
      " [ 0.09200836  0.49825177  0.15936062]\n",
      " [ 0.67605555  0.51758671  0.99064159]\n",
      " [ 0.06657603  0.80596513  0.51625013]\n",
      " [ 0.63593692  0.47746944  0.9398216 ]\n",
      " [ 0.68301576  0.33368298  0.9687897 ]\n",
      " [ 0.86740589  0.97302419  0.9762063 ]\n",
      " [ 0.49031559  0.90505636  0.87785977]\n",
      " [ 0.77313697  0.33485857  0.05304261]\n",
      " [ 0.52668637  0.13757664  0.94028455]\n",
      " [ 0.04932173  0.4861916   0.44384807]\n",
      " [ 0.58049655  0.46690616  0.2144995 ]\n",
      " [ 0.02572905  0.24980231  0.89542216]\n",
      " [ 0.85124969  0.6350525   0.15420875]\n",
      " [ 0.32524768  0.37950122  0.55391461]\n",
      " [ 0.35789639  0.39706972  0.56941426]\n",
      " [ 0.28571543  0.65783638  0.67257959]\n",
      " [ 0.30900446  0.75030959  0.45056504]\n",
      " [ 0.84206247  0.72152007  0.34542066]\n",
      " [ 0.73627543  0.77381891  0.58124095]\n",
      " [ 0.84919584  0.63201255  0.7017023 ]\n",
      " [ 0.8547864   0.74555647  0.6529581 ]\n",
      " [ 0.25708953  0.75902975  0.17308524]\n",
      " [ 0.42599455  0.47444779  0.21980682]\n",
      " [ 0.97272128  0.69619268  0.3641634 ]\n",
      " [ 0.76461387  0.22767949  0.17520535]\n",
      " [ 0.66488326  0.70038402  0.41092277]\n",
      " [ 0.23497593  0.08721757  0.98244512]]\n",
      "<NDArray 30x3 @cpu(0)>], 0]\n",
      "[[\n",
      "[[ 0.41169924  0.61612386  0.83899772]\n",
      " [ 0.59970778  0.04205248  0.53115737]\n",
      " [ 0.86280841  0.7308225   0.49005485]\n",
      " [ 0.57693052  0.80607998  0.36536759]\n",
      " [ 0.60450125  0.08879301  0.27798024]\n",
      " [ 0.09663573  0.09336618  0.33301449]\n",
      " [ 0.50036019  0.3531929   0.83442277]\n",
      " [ 0.93395698  0.9866724   0.90583992]\n",
      " [ 0.90005559  0.75641137  0.71707308]\n",
      " [ 0.65539676  0.84597886  0.30816135]\n",
      " [ 0.11512283  0.6257233   0.90840065]\n",
      " [ 0.38910207  0.85827857  0.18284126]\n",
      " [ 0.01265754  0.78948128  0.9218545 ]\n",
      " [ 0.64379489  0.29884189  0.8615343 ]\n",
      " [ 0.57432634  0.07136158  0.77823406]\n",
      " [ 0.28681713  0.47911149  0.17054661]\n",
      " [ 0.07303894  0.77985287  0.59867752]\n",
      " [ 0.58421427  0.82028091  0.77913731]\n",
      " [ 0.09972505  0.0224254   0.71381557]\n",
      " [ 0.47871295  0.58255774  0.95042771]\n",
      " [ 0.95473528  0.35117096  0.0434185 ]\n",
      " [ 0.37890023  0.82184792  0.66986936]\n",
      " [ 0.29379803  0.62926084  0.49301028]\n",
      " [ 0.10510261  0.58912671  0.91746026]\n",
      " [ 0.69655788  0.6239568   0.04908732]\n",
      " [ 0.92325866  0.76123536  0.37001449]\n",
      " [ 0.74287802  0.1860251   0.57631779]\n",
      " [ 0.22596808  0.4854497   0.86097556]\n",
      " [ 0.69294864  0.72700822  0.42553219]\n",
      " [ 0.0921173   0.68445092  0.83925056]]\n",
      "<NDArray 30x3 @cpu(0)>], 0]\n",
      "[[\n",
      "[[ 0.24275771  0.56484491  0.40877515]\n",
      " [ 0.9599641   0.74085873  0.89430028]\n",
      " [ 0.88107157  0.40102991  0.72772014]\n",
      " [ 0.29920369  0.66487789  0.4165822 ]\n",
      " [ 0.91551721  0.16822591  0.06819616]\n",
      " [ 0.06962866  0.13437845  0.67386848]\n",
      " [ 0.28127283  0.74096429  0.70320743]\n",
      " [ 0.26411471  0.52145725  0.08948217]\n",
      " [ 0.24404161  0.73877764  0.5661689 ]\n",
      " [ 0.18954371  0.88860291  0.62849391]\n",
      " [ 0.92640734  0.72074735  0.78027618]\n",
      " [ 0.78830326  0.38218057  0.68253231]\n",
      " [ 0.21027057  0.83625001  0.24577554]\n",
      " [ 0.76189554  0.87755024  0.57154524]\n",
      " [ 0.63684809  0.42350969  0.42498264]\n",
      " [ 0.21436048  0.62168777  0.71450412]\n",
      " [ 0.15391012  0.54260969  0.47475082]\n",
      " [ 0.88939637  0.34722126  0.63033408]\n",
      " [ 0.26806831  0.94700783  0.69465816]\n",
      " [ 0.36793545  0.10805659  0.64202231]\n",
      " [ 0.5751971   0.16434141  0.1374025 ]\n",
      " [ 0.84251612  0.82212573  0.99032247]\n",
      " [ 0.35666713  0.20274083  0.74363071]\n",
      " [ 0.14639506  0.13366039  0.61607456]\n",
      " [ 0.44775453  0.10133909  0.1911861 ]\n",
      " [ 0.50419283  0.68332189  0.19474211]\n",
      " [ 0.09596542  0.50150454  0.22274709]\n",
      " [ 0.85056913  0.82216865  0.7124337 ]\n",
      " [ 0.66423225  0.36235139  0.40358576]\n",
      " [ 0.03496303  0.08722769  0.40765029]]\n",
      "<NDArray 30x3 @cpu(0)>], 20]\n"
     ]
    }
   ],
   "source": [
    "#lets save `data` into a csv file first and try reading it back\n",
    "np.savetxt('data.csv', data, delimiter=',')\n",
    "data_iter = mx.io.CSVIter(data_csv='data.csv', data_shape=(3,), batch_size=30)\n",
    "for batch in data_iter:\n",
    "    print([batch.data, batch.pad])"
   ]
  },
  {
   "cell_type": "markdown",
   "metadata": {},
   "source": [
    "## Custom Iterator\n",
    "When the built-in iterators do not suit your application needs,\n",
    "you can create your own custom data iterator.\n",
    "\n",
    "An iterator in _MXNet_ should\n",
    "1. Implement `next()` in ``Python2`` or `__next()__` in ``Python3``,\n",
    "   returning a `DataBatch` or raising a `StopIteration` exception if at the end of the data stream.\n",
    "2. Implement the `reset()` method to restart reading from the beginning.\n",
    "3. Have a `provide_data` attribute, consisting of a list of `DataDesc` objects that store the name, shape, type and layout information of the data (more info [here](http://mxnet.io/api/python/io.html#mxnet.io.DataBatch)).\n",
    "4. Have a `provide_label` attribute consisting of a list of `DataDesc` objects that store the name, shape, type and layout information of the label.\n",
    "\n",
    "When creating a new iterator, you can either start from scratch and define an iterator or reuse one of the existing iterators.\n",
    "For example, in the image captioning application, the input example is an image while the label is a sentence.\n",
    "Thus we can create a new iterator by:\n",
    "- creating a `image_iter` by using `ImageRecordIter` which provides multithreaded pre-fetch and augmentation.\n",
    "- creating a `caption_iter` by using `NDArrayIter` or the bucketing iterator provided in the *rnn* package.\n",
    "- `next()` returns the combined result of `image_iter.next()` and `caption_iter.next()`\n",
    "\n",
    "The example below shows how to create a Simple iterator."
   ]
  },
  {
   "cell_type": "code",
   "execution_count": 4,
   "metadata": {
    "collapsed": true
   },
   "outputs": [],
   "source": [
    "class SimpleIter(mx.io.DataIter):\n",
    "    def __init__(self, data_names, data_shapes, data_gen,\n",
    "                 label_names, label_shapes, label_gen, num_batches=10):\n",
    "        self._provide_data = zip(data_names, data_shapes)\n",
    "        self._provide_label = zip(label_names, label_shapes)\n",
    "        self.num_batches = num_batches\n",
    "        self.data_gen = data_gen\n",
    "        self.label_gen = label_gen\n",
    "        self.cur_batch = 0\n",
    "\n",
    "    def __iter__(self):\n",
    "        return self\n",
    "\n",
    "    def reset(self):\n",
    "        self.cur_batch = 0\n",
    "\n",
    "    def __next__(self):\n",
    "        return self.next()\n",
    "\n",
    "    @property\n",
    "    def provide_data(self):\n",
    "        return self._provide_data\n",
    "\n",
    "    @property\n",
    "    def provide_label(self):\n",
    "        return self._provide_label\n",
    "\n",
    "    def next(self):\n",
    "        if self.cur_batch < self.num_batches:\n",
    "            self.cur_batch += 1\n",
    "            data = [mx.nd.array(g(d[1])) for d,g in zip(self._provide_data, self.data_gen)]\n",
    "            label = [mx.nd.array(g(d[1])) for d,g in zip(self._provide_label, self.label_gen)]\n",
    "            return mx.io.DataBatch(data, label)\n",
    "        else:\n",
    "            raise StopIteration"
   ]
  },
  {
   "cell_type": "markdown",
   "metadata": {},
   "source": [
    "We can use the above defined `SimpleIter` to train a simple MLP program below:"
   ]
  },
  {
   "cell_type": "code",
   "execution_count": 5,
   "metadata": {},
   "outputs": [
    {
     "name": "stdout",
     "output_type": "stream",
     "text": [
      "['data', 'fc1_weight', 'fc1_bias', 'fc2_weight', 'fc2_bias', 'softmax_label']\n",
      "['softmax_output']\n"
     ]
    }
   ],
   "source": [
    "import mxnet as mx\n",
    "num_classes = 10\n",
    "net = mx.sym.Variable('data')\n",
    "net = mx.sym.FullyConnected(data=net, name='fc1', num_hidden=64)\n",
    "net = mx.sym.Activation(data=net, name='relu1', act_type=\"relu\")\n",
    "net = mx.sym.FullyConnected(data=net, name='fc2', num_hidden=num_classes)\n",
    "net = mx.sym.SoftmaxOutput(data=net, name='softmax')\n",
    "print(net.list_arguments())\n",
    "print(net.list_outputs())"
   ]
  },
  {
   "cell_type": "markdown",
   "metadata": {},
   "source": [
    "Here, there are four variables that are learnable parameters:\n",
    "the *weights* and *biases* of FullyConnected layers *fc1* and *fc2*,\n",
    "two variables for input data: *data* for the training examples\n",
    "and *softmax_label* contains the respective labels and the *softmax_output*.\n",
    "\n",
    "The *data* variables are called free variables in MXNet's Symbol API.\n",
    "To execute a Symbol, they need to be bound with data.\n",
    "[Click here learn more about Symbol](http://mxnet.io/tutorials/basic/symbol.html).\n",
    "\n",
    "We use the data iterator to feed examples to a neural network via MXNet's `module` API.\n",
    "[Click here to learn more about Module](http://mxnet.io/tutorials/basic/module.html)."
   ]
  },
  {
   "cell_type": "code",
   "execution_count": 6,
   "metadata": {},
   "outputs": [
    {
     "ename": "ValueError",
     "evalue": "Data provided by data_shapes don't match names specified by data_names ([] vs. ['data'])",
     "output_type": "error",
     "traceback": [
      "\u001b[0;31m---------------------------------------------------------------------------\u001b[0m",
      "\u001b[0;31mValueError\u001b[0m                                Traceback (most recent call last)",
      "\u001b[0;32m<ipython-input-6-6ceb7dd11508>\u001b[0m in \u001b[0;36m<module>\u001b[0;34m()\u001b[0m\n\u001b[1;32m      9\u001b[0m \u001b[0;34m\u001b[0m\u001b[0m\n\u001b[1;32m     10\u001b[0m \u001b[0mmod\u001b[0m \u001b[0;34m=\u001b[0m \u001b[0mmx\u001b[0m\u001b[0;34m.\u001b[0m\u001b[0mmod\u001b[0m\u001b[0;34m.\u001b[0m\u001b[0mModule\u001b[0m\u001b[0;34m(\u001b[0m\u001b[0msymbol\u001b[0m\u001b[0;34m=\u001b[0m\u001b[0mnet\u001b[0m\u001b[0;34m)\u001b[0m\u001b[0;34m\u001b[0m\u001b[0m\n\u001b[0;32m---> 11\u001b[0;31m \u001b[0mmod\u001b[0m\u001b[0;34m.\u001b[0m\u001b[0mfit\u001b[0m\u001b[0;34m(\u001b[0m\u001b[0mdata_iter\u001b[0m\u001b[0;34m,\u001b[0m \u001b[0mnum_epoch\u001b[0m\u001b[0;34m=\u001b[0m\u001b[0;36m5\u001b[0m\u001b[0;34m)\u001b[0m\u001b[0;34m\u001b[0m\u001b[0m\n\u001b[0m",
      "\u001b[0;32m/home/dan/.conda/envs/tensorflow/lib/python3.6/site-packages/mxnet/module/base_module.py\u001b[0m in \u001b[0;36mfit\u001b[0;34m(self, train_data, eval_data, eval_metric, epoch_end_callback, batch_end_callback, kvstore, optimizer, optimizer_params, eval_end_callback, eval_batch_end_callback, initializer, arg_params, aux_params, allow_missing, force_rebind, force_init, begin_epoch, num_epoch, validation_metric, monitor)\u001b[0m\n\u001b[1;32m    485\u001b[0m                 \u001b[0;32mif\u001b[0m \u001b[0mmonitor\u001b[0m \u001b[0;32mis\u001b[0m \u001b[0;32mnot\u001b[0m \u001b[0;32mNone\u001b[0m\u001b[0;34m:\u001b[0m\u001b[0;34m\u001b[0m\u001b[0m\n\u001b[1;32m    486\u001b[0m                     \u001b[0mmonitor\u001b[0m\u001b[0;34m.\u001b[0m\u001b[0mtic\u001b[0m\u001b[0;34m(\u001b[0m\u001b[0;34m)\u001b[0m\u001b[0;34m\u001b[0m\u001b[0m\n\u001b[0;32m--> 487\u001b[0;31m                 \u001b[0mself\u001b[0m\u001b[0;34m.\u001b[0m\u001b[0mforward_backward\u001b[0m\u001b[0;34m(\u001b[0m\u001b[0mdata_batch\u001b[0m\u001b[0;34m)\u001b[0m\u001b[0;34m\u001b[0m\u001b[0m\n\u001b[0m\u001b[1;32m    488\u001b[0m                 \u001b[0mself\u001b[0m\u001b[0;34m.\u001b[0m\u001b[0mupdate\u001b[0m\u001b[0;34m(\u001b[0m\u001b[0;34m)\u001b[0m\u001b[0;34m\u001b[0m\u001b[0m\n\u001b[1;32m    489\u001b[0m                 \u001b[0;32mtry\u001b[0m\u001b[0;34m:\u001b[0m\u001b[0;34m\u001b[0m\u001b[0m\n",
      "\u001b[0;32m/home/dan/.conda/envs/tensorflow/lib/python3.6/site-packages/mxnet/module/base_module.py\u001b[0m in \u001b[0;36mforward_backward\u001b[0;34m(self, data_batch)\u001b[0m\n\u001b[1;32m    189\u001b[0m     \u001b[0;32mdef\u001b[0m \u001b[0mforward_backward\u001b[0m\u001b[0;34m(\u001b[0m\u001b[0mself\u001b[0m\u001b[0;34m,\u001b[0m \u001b[0mdata_batch\u001b[0m\u001b[0;34m)\u001b[0m\u001b[0;34m:\u001b[0m\u001b[0;34m\u001b[0m\u001b[0m\n\u001b[1;32m    190\u001b[0m         \u001b[0;34m\"\"\"A convenient function that calls both ``forward`` and ``backward``.\"\"\"\u001b[0m\u001b[0;34m\u001b[0m\u001b[0m\n\u001b[0;32m--> 191\u001b[0;31m         \u001b[0mself\u001b[0m\u001b[0;34m.\u001b[0m\u001b[0mforward\u001b[0m\u001b[0;34m(\u001b[0m\u001b[0mdata_batch\u001b[0m\u001b[0;34m,\u001b[0m \u001b[0mis_train\u001b[0m\u001b[0;34m=\u001b[0m\u001b[0;32mTrue\u001b[0m\u001b[0;34m)\u001b[0m\u001b[0;34m\u001b[0m\u001b[0m\n\u001b[0m\u001b[1;32m    192\u001b[0m         \u001b[0mself\u001b[0m\u001b[0;34m.\u001b[0m\u001b[0mbackward\u001b[0m\u001b[0;34m(\u001b[0m\u001b[0;34m)\u001b[0m\u001b[0;34m\u001b[0m\u001b[0m\n\u001b[1;32m    193\u001b[0m \u001b[0;34m\u001b[0m\u001b[0m\n",
      "\u001b[0;32m/home/dan/.conda/envs/tensorflow/lib/python3.6/site-packages/mxnet/module/module.py\u001b[0m in \u001b[0;36mforward\u001b[0;34m(self, data_batch, is_train)\u001b[0m\n\u001b[1;32m    592\u001b[0m                 \u001b[0mnew_lshape\u001b[0m \u001b[0;34m=\u001b[0m \u001b[0;32mNone\u001b[0m\u001b[0;34m\u001b[0m\u001b[0m\n\u001b[1;32m    593\u001b[0m \u001b[0;34m\u001b[0m\u001b[0m\n\u001b[0;32m--> 594\u001b[0;31m             \u001b[0mself\u001b[0m\u001b[0;34m.\u001b[0m\u001b[0mreshape\u001b[0m\u001b[0;34m(\u001b[0m\u001b[0mnew_dshape\u001b[0m\u001b[0;34m,\u001b[0m \u001b[0mnew_lshape\u001b[0m\u001b[0;34m)\u001b[0m\u001b[0;34m\u001b[0m\u001b[0m\n\u001b[0m\u001b[1;32m    595\u001b[0m \u001b[0;34m\u001b[0m\u001b[0m\n\u001b[1;32m    596\u001b[0m         \u001b[0mself\u001b[0m\u001b[0;34m.\u001b[0m\u001b[0m_exec_group\u001b[0m\u001b[0;34m.\u001b[0m\u001b[0mforward\u001b[0m\u001b[0;34m(\u001b[0m\u001b[0mdata_batch\u001b[0m\u001b[0;34m,\u001b[0m \u001b[0mis_train\u001b[0m\u001b[0;34m)\u001b[0m\u001b[0;34m\u001b[0m\u001b[0m\n",
      "\u001b[0;32m/home/dan/.conda/envs/tensorflow/lib/python3.6/site-packages/mxnet/module/module.py\u001b[0m in \u001b[0;36mreshape\u001b[0;34m(self, data_shapes, label_shapes)\u001b[0m\n\u001b[1;32m    454\u001b[0m         \u001b[0;32massert\u001b[0m \u001b[0mself\u001b[0m\u001b[0;34m.\u001b[0m\u001b[0mbinded\u001b[0m\u001b[0;34m\u001b[0m\u001b[0m\n\u001b[1;32m    455\u001b[0m         self._data_shapes, self._label_shapes = _parse_data_desc(\n\u001b[0;32m--> 456\u001b[0;31m             self.data_names, self.label_names, data_shapes, label_shapes)\n\u001b[0m\u001b[1;32m    457\u001b[0m \u001b[0;34m\u001b[0m\u001b[0m\n\u001b[1;32m    458\u001b[0m         \u001b[0mself\u001b[0m\u001b[0;34m.\u001b[0m\u001b[0m_exec_group\u001b[0m\u001b[0;34m.\u001b[0m\u001b[0mreshape\u001b[0m\u001b[0;34m(\u001b[0m\u001b[0mself\u001b[0m\u001b[0;34m.\u001b[0m\u001b[0m_data_shapes\u001b[0m\u001b[0;34m,\u001b[0m \u001b[0mself\u001b[0m\u001b[0;34m.\u001b[0m\u001b[0m_label_shapes\u001b[0m\u001b[0;34m)\u001b[0m\u001b[0;34m\u001b[0m\u001b[0m\n",
      "\u001b[0;32m/home/dan/.conda/envs/tensorflow/lib/python3.6/site-packages/mxnet/module/base_module.py\u001b[0m in \u001b[0;36m_parse_data_desc\u001b[0;34m(data_names, label_names, data_shapes, label_shapes)\u001b[0m\n\u001b[1;32m     69\u001b[0m     \u001b[0;34m\"\"\"parse data_attrs into DataDesc format and check that names match\"\"\"\u001b[0m\u001b[0;34m\u001b[0m\u001b[0m\n\u001b[1;32m     70\u001b[0m     \u001b[0mdata_shapes\u001b[0m \u001b[0;34m=\u001b[0m \u001b[0;34m[\u001b[0m\u001b[0mx\u001b[0m \u001b[0;32mif\u001b[0m \u001b[0misinstance\u001b[0m\u001b[0;34m(\u001b[0m\u001b[0mx\u001b[0m\u001b[0;34m,\u001b[0m \u001b[0mDataDesc\u001b[0m\u001b[0;34m)\u001b[0m \u001b[0;32melse\u001b[0m \u001b[0mDataDesc\u001b[0m\u001b[0;34m(\u001b[0m\u001b[0;34m*\u001b[0m\u001b[0mx\u001b[0m\u001b[0;34m)\u001b[0m \u001b[0;32mfor\u001b[0m \u001b[0mx\u001b[0m \u001b[0;32min\u001b[0m \u001b[0mdata_shapes\u001b[0m\u001b[0;34m]\u001b[0m\u001b[0;34m\u001b[0m\u001b[0m\n\u001b[0;32m---> 71\u001b[0;31m     \u001b[0m_check_names_match\u001b[0m\u001b[0;34m(\u001b[0m\u001b[0mdata_names\u001b[0m\u001b[0;34m,\u001b[0m \u001b[0mdata_shapes\u001b[0m\u001b[0;34m,\u001b[0m \u001b[0;34m'data'\u001b[0m\u001b[0;34m,\u001b[0m \u001b[0;32mTrue\u001b[0m\u001b[0;34m)\u001b[0m\u001b[0;34m\u001b[0m\u001b[0m\n\u001b[0m\u001b[1;32m     72\u001b[0m     \u001b[0;32mif\u001b[0m \u001b[0mlabel_shapes\u001b[0m \u001b[0;32mis\u001b[0m \u001b[0;32mnot\u001b[0m \u001b[0;32mNone\u001b[0m\u001b[0;34m:\u001b[0m\u001b[0;34m\u001b[0m\u001b[0m\n\u001b[1;32m     73\u001b[0m         \u001b[0mlabel_shapes\u001b[0m \u001b[0;34m=\u001b[0m \u001b[0;34m[\u001b[0m\u001b[0mx\u001b[0m \u001b[0;32mif\u001b[0m \u001b[0misinstance\u001b[0m\u001b[0;34m(\u001b[0m\u001b[0mx\u001b[0m\u001b[0;34m,\u001b[0m \u001b[0mDataDesc\u001b[0m\u001b[0;34m)\u001b[0m \u001b[0;32melse\u001b[0m \u001b[0mDataDesc\u001b[0m\u001b[0;34m(\u001b[0m\u001b[0;34m*\u001b[0m\u001b[0mx\u001b[0m\u001b[0;34m)\u001b[0m \u001b[0;32mfor\u001b[0m \u001b[0mx\u001b[0m \u001b[0;32min\u001b[0m \u001b[0mlabel_shapes\u001b[0m\u001b[0;34m]\u001b[0m\u001b[0;34m\u001b[0m\u001b[0m\n",
      "\u001b[0;32m/home/dan/.conda/envs/tensorflow/lib/python3.6/site-packages/mxnet/module/base_module.py\u001b[0m in \u001b[0;36m_check_names_match\u001b[0;34m(data_names, data_shapes, name, throw)\u001b[0m\n\u001b[1;32m     61\u001b[0m             name, name, str(data_shapes), str(data_names))\n\u001b[1;32m     62\u001b[0m         \u001b[0;32mif\u001b[0m \u001b[0mthrow\u001b[0m\u001b[0;34m:\u001b[0m\u001b[0;34m\u001b[0m\u001b[0m\n\u001b[0;32m---> 63\u001b[0;31m             \u001b[0;32mraise\u001b[0m \u001b[0mValueError\u001b[0m\u001b[0;34m(\u001b[0m\u001b[0mmsg\u001b[0m\u001b[0;34m)\u001b[0m\u001b[0;34m\u001b[0m\u001b[0m\n\u001b[0m\u001b[1;32m     64\u001b[0m         \u001b[0;32melse\u001b[0m\u001b[0;34m:\u001b[0m\u001b[0;34m\u001b[0m\u001b[0m\n\u001b[1;32m     65\u001b[0m             \u001b[0mwarnings\u001b[0m\u001b[0;34m.\u001b[0m\u001b[0mwarn\u001b[0m\u001b[0;34m(\u001b[0m\u001b[0mmsg\u001b[0m\u001b[0;34m)\u001b[0m\u001b[0;34m\u001b[0m\u001b[0m\n",
      "\u001b[0;31mValueError\u001b[0m: Data provided by data_shapes don't match names specified by data_names ([] vs. ['data'])"
     ]
    }
   ],
   "source": [
    "import logging\n",
    "logging.basicConfig(level=logging.INFO)\n",
    "\n",
    "n = 32\n",
    "data_iter = SimpleIter(['data'], [(n, 100)],\n",
    "                  [lambda s: np.random.uniform(-1, 1, s)],\n",
    "                  ['softmax_label'], [(n,)],\n",
    "                  [lambda s: np.random.randint(0, num_classes, s)])\n",
    "\n",
    "mod = mx.mod.Module(symbol=net)\n",
    "mod.fit(data_iter, num_epoch=5)"
   ]
  },
  {
   "cell_type": "markdown",
   "metadata": {},
   "source": [
    "## Record IO\n",
    "Record IO is a file format used by MXNet for data IO.\n",
    "It compactly packs the data for efficient read and writes from distributed file system like Hadoop HDFS and AWS S3.\n",
    "You can learn more about the design of `RecordIO` [here](http://mxnet.io/architecture/note_data_loading.html).\n",
    "\n",
    "MXNet provides [__`MXRecordIO`__](http://mxnet.io/api/python/io.html#mxnet.recordio.MXRecordIO)\n",
    "and [__`MXIndexedRecordIO`__](http://mxnet.io/api/python/io.html#mxnet.recordio.MXIndexedRecordIO)\n",
    "for sequential access of data and random access of the data.\n",
    "\n",
    "### MXRecordIO\n",
    "First, let's look at an example on how to read and write sequentially\n",
    "using `MXRecordIO`. The files are named with a `.rec` extension."
   ]
  },
  {
   "cell_type": "code",
   "execution_count": null,
   "metadata": {
    "collapsed": true
   },
   "outputs": [],
   "source": [
    "record = mx.recordio.MXRecordIO('tmp.rec', 'w')\n",
    "for i in range(5):\n",
    "    record.write('record_%d'%i)\n",
    "record.close()"
   ]
  },
  {
   "cell_type": "markdown",
   "metadata": {},
   "source": [
    "We can read the data back by opening the file with an option `r` as below:"
   ]
  },
  {
   "cell_type": "code",
   "execution_count": null,
   "metadata": {
    "collapsed": true
   },
   "outputs": [],
   "source": [
    "record = mx.recordio.MXRecordIO('tmp.rec', 'r')\n",
    "while True:\n",
    "    item = record.read()\n",
    "    if not item:\n",
    "        break\n",
    "    print (item)\n",
    "record.close()"
   ]
  },
  {
   "cell_type": "markdown",
   "metadata": {},
   "source": [
    "### MXIndexedRecordIO\n",
    "`MXIndexedRecordIO` supports random or indexed access to the data.\n",
    "We will create an indexed record file and a corresponding index file as below:"
   ]
  },
  {
   "cell_type": "code",
   "execution_count": null,
   "metadata": {
    "collapsed": true
   },
   "outputs": [],
   "source": [
    "record = mx.recordio.MXIndexedRecordIO('tmp.idx', 'tmp.rec', 'w')\n",
    "for i in range(5):\n",
    "    record.write_idx(i, 'record_%d'%i)\n",
    "record.close()"
   ]
  },
  {
   "cell_type": "markdown",
   "metadata": {},
   "source": [
    "Now, we can access the individual records using the keys"
   ]
  },
  {
   "cell_type": "code",
   "execution_count": null,
   "metadata": {
    "collapsed": true
   },
   "outputs": [],
   "source": [
    "record = mx.recordio.MXIndexedRecordIO('tmp.idx', 'tmp.rec', 'r')\n",
    "record.read_idx(3)"
   ]
  },
  {
   "cell_type": "markdown",
   "metadata": {},
   "source": [
    "You can also list all the keys in the file."
   ]
  },
  {
   "cell_type": "code",
   "execution_count": null,
   "metadata": {
    "collapsed": true
   },
   "outputs": [],
   "source": [
    "record.keys"
   ]
  },
  {
   "cell_type": "markdown",
   "metadata": {},
   "source": [
    "### Packing and Unpacking data\n",
    "\n",
    "Each record in a .rec file can contain arbitrary binary data. However, most deep learning tasks require data to be input in label/data format.\n",
    "The `mx.recordio` package provides a few utility functions for such operations, namely: `pack`, `unpack`, `pack_img`, and `unpack_img`.\n",
    "\n",
    "#### Packing/Unpacking Binary Data\n",
    "\n",
    "[__`pack`__](http://mxnet.io/api/python/io.html#mxnet.recordio.pack) and [__`unpack`__](http://mxnet.io/api/python/io.html#mxnet.recordio.unpack) are used for storing float (or 1d array of float) label and binary data. The data is packed along with a header. The header structure is defined [here](http://mxnet.io/api/python/io.html#mxnet.recordio.IRHeader)."
   ]
  },
  {
   "cell_type": "code",
   "execution_count": null,
   "metadata": {
    "collapsed": true
   },
   "outputs": [],
   "source": [
    "# pack\n",
    "data = 'data'\n",
    "label1 = 1.0\n",
    "header1 = mx.recordio.IRHeader(flag=0, label=label1, id=1, id2=0)\n",
    "s1 = mx.recordio.pack(header1, data)\n",
    "\n",
    "label2 = [1.0, 2.0, 3.0]\n",
    "header2 = mx.recordio.IRHeader(flag=3, label=label2, id=2, id2=0)\n",
    "s2 = mx.recordio.pack(header2, data)"
   ]
  },
  {
   "cell_type": "code",
   "execution_count": null,
   "metadata": {
    "collapsed": true
   },
   "outputs": [],
   "source": [
    "# unpack\n",
    "print(mx.recordio.unpack(s1))\n",
    "print(mx.recordio.unpack(s2))"
   ]
  },
  {
   "cell_type": "markdown",
   "metadata": {},
   "source": [
    "#### Packing/Unpacking Image Data\n",
    "\n",
    "MXNet provides [__`pack_img`__](http://mxnet.io/api/python/io.html#mxnet.recordio.pack_img) and [__`unpack_img`__](http://mxnet.io/api/python/io.html#mxnet.recordio.unpack_img) to pack/unpack image data.\n",
    "Records packed by `pack_img` can be loaded by `mx.io.ImageRecordIter`."
   ]
  },
  {
   "cell_type": "code",
   "execution_count": null,
   "metadata": {
    "collapsed": true
   },
   "outputs": [],
   "source": [
    "data = np.ones((3,3,1), dtype=np.uint8)\n",
    "label = 1.0\n",
    "header = mx.recordio.IRHeader(flag=0, label=label, id=0, id2=0)\n",
    "s = mx.recordio.pack_img(header, data, quality=100, img_fmt='.jpg')"
   ]
  },
  {
   "cell_type": "code",
   "execution_count": null,
   "metadata": {
    "collapsed": true
   },
   "outputs": [],
   "source": [
    "# unpack_img\n",
    "print(mx.recordio.unpack_img(s))"
   ]
  },
  {
   "cell_type": "markdown",
   "metadata": {},
   "source": [
    "#### Using tools/im2rec.py\n",
    "You can also convert raw images into *RecordIO* format using the ``im2rec.py`` utility script that is provided in the MXNet [src/tools](https://github.com/dmlc/mxnet/tree/master/tools) folder.\n",
    "An example of how to use the script for converting to *RecordIO* format is shown in the `Image IO` section below.\n",
    "\n",
    "## Image IO\n",
    "\n",
    "In this section, we will learn how to preprocess and load image data in MXNet.\n",
    "\n",
    "There are 4 ways of loading image data in MXNet.\n",
    "   1. Using [__mx.image.imdecode__](http://mxnet.io/api/python/io.html#mxnet.image.imdecode) to load raw image files.\n",
    "   2. Using [__`mx.img.ImageIter`__](http://mxnet.io/api/python/io.html#mxnet.image.ImageIter) implemented in Python which is very flexible to customization. It can read from .rec(`RecordIO`) files and raw image files.\n",
    "   3. Using [__`mx.io.ImageRecordIter`__](http://mxnet.io/api/python/io.html#mxnet.io.ImageRecordIter) implemented on the MXNet backend in C++. This is less flexible to customization but provides various language bindings.\n",
    "   4. Creating a Custom iterator inheriting `mx.io.DataIter`\n",
    "\n",
    "\n",
    "### Preprocessing Images\n",
    "Images can be preprocessed in different ways. We list some of them below:\n",
    "- Using `mx.io.ImageRecordIter` which is fast but not very flexible. It is great for simple tasks like image recognition but won't work for more complex tasks like detection and segmentation.\n",
    "- Using `mx.recordio.unpack_img` (or `cv2.imread`, `skimage`, etc) + `numpy` is flexible but slow due to Python Global Interpreter Lock (GIL).\n",
    "- Using MXNet provided `mx.image` package. It stores images in [__`NDArray`__](http://mxnet.io/tutorials/basic/ndarray.html) format and leverages MXNet's [dependency engine](http://mxnet.io/architecture/note_engine.html) to automatically parallelize processing and circumvent GIL.\n",
    "\n",
    "Below, we demonstrate some of the frequently used preprocessing routines provided by the `mx.image` package.\n",
    "\n",
    "Let's download sample images that we can work with."
   ]
  },
  {
   "cell_type": "code",
   "execution_count": 7,
   "metadata": {},
   "outputs": [
    {
     "name": "stderr",
     "output_type": "stream",
     "text": [
      "INFO:root:create directory data\n"
     ]
    },
    {
     "ename": "NameError",
     "evalue": "name 'requests' is not defined",
     "output_type": "error",
     "traceback": [
      "\u001b[0;31m---------------------------------------------------------------------------\u001b[0m",
      "\u001b[0;31mNameError\u001b[0m                                 Traceback (most recent call last)",
      "\u001b[0;32m<ipython-input-7-792dc9adbcc7>\u001b[0m in \u001b[0;36m<module>\u001b[0;34m()\u001b[0m\n\u001b[0;32m----> 1\u001b[0;31m \u001b[0mfname\u001b[0m \u001b[0;34m=\u001b[0m \u001b[0mmx\u001b[0m\u001b[0;34m.\u001b[0m\u001b[0mtest_utils\u001b[0m\u001b[0;34m.\u001b[0m\u001b[0mdownload\u001b[0m\u001b[0;34m(\u001b[0m\u001b[0murl\u001b[0m\u001b[0;34m=\u001b[0m\u001b[0;34m'http://data.mxnet.io/data/test_images.tar.gz'\u001b[0m\u001b[0;34m,\u001b[0m \u001b[0mdirname\u001b[0m\u001b[0;34m=\u001b[0m\u001b[0;34m'data'\u001b[0m\u001b[0;34m,\u001b[0m \u001b[0moverwrite\u001b[0m\u001b[0;34m=\u001b[0m\u001b[0;32mFalse\u001b[0m\u001b[0;34m)\u001b[0m\u001b[0;34m\u001b[0m\u001b[0m\n\u001b[0m\u001b[1;32m      2\u001b[0m \u001b[0mtar\u001b[0m \u001b[0;34m=\u001b[0m \u001b[0mtarfile\u001b[0m\u001b[0;34m.\u001b[0m\u001b[0mopen\u001b[0m\u001b[0;34m(\u001b[0m\u001b[0mfname\u001b[0m\u001b[0;34m)\u001b[0m\u001b[0;34m\u001b[0m\u001b[0m\n\u001b[1;32m      3\u001b[0m \u001b[0mtar\u001b[0m\u001b[0;34m.\u001b[0m\u001b[0mextractall\u001b[0m\u001b[0;34m(\u001b[0m\u001b[0mpath\u001b[0m\u001b[0;34m=\u001b[0m\u001b[0;34m'./data'\u001b[0m\u001b[0;34m)\u001b[0m\u001b[0;34m\u001b[0m\u001b[0m\n\u001b[1;32m      4\u001b[0m \u001b[0mtar\u001b[0m\u001b[0;34m.\u001b[0m\u001b[0mclose\u001b[0m\u001b[0;34m(\u001b[0m\u001b[0;34m)\u001b[0m\u001b[0;34m\u001b[0m\u001b[0m\n",
      "\u001b[0;32m/home/dan/.conda/envs/tensorflow/lib/python3.6/site-packages/mxnet/test_utils.py\u001b[0m in \u001b[0;36mdownload\u001b[0;34m(url, fname, dirname, overwrite)\u001b[0m\n\u001b[1;32m   1186\u001b[0m         \u001b[0;32mreturn\u001b[0m \u001b[0mfname\u001b[0m\u001b[0;34m\u001b[0m\u001b[0m\n\u001b[1;32m   1187\u001b[0m \u001b[0;34m\u001b[0m\u001b[0m\n\u001b[0;32m-> 1188\u001b[0;31m     \u001b[0mr\u001b[0m \u001b[0;34m=\u001b[0m \u001b[0mrequests\u001b[0m\u001b[0;34m.\u001b[0m\u001b[0mget\u001b[0m\u001b[0;34m(\u001b[0m\u001b[0murl\u001b[0m\u001b[0;34m,\u001b[0m \u001b[0mstream\u001b[0m\u001b[0;34m=\u001b[0m\u001b[0;32mTrue\u001b[0m\u001b[0;34m)\u001b[0m\u001b[0;34m\u001b[0m\u001b[0m\n\u001b[0m\u001b[1;32m   1189\u001b[0m     \u001b[0;32massert\u001b[0m \u001b[0mr\u001b[0m\u001b[0;34m.\u001b[0m\u001b[0mstatus_code\u001b[0m \u001b[0;34m==\u001b[0m \u001b[0;36m200\u001b[0m\u001b[0;34m,\u001b[0m \u001b[0;34m\"failed to open %s\"\u001b[0m \u001b[0;34m%\u001b[0m \u001b[0murl\u001b[0m\u001b[0;34m\u001b[0m\u001b[0m\n\u001b[1;32m   1190\u001b[0m     \u001b[0;32mwith\u001b[0m \u001b[0mopen\u001b[0m\u001b[0;34m(\u001b[0m\u001b[0mfname\u001b[0m\u001b[0;34m,\u001b[0m \u001b[0;34m'wb'\u001b[0m\u001b[0;34m)\u001b[0m \u001b[0;32mas\u001b[0m \u001b[0mf\u001b[0m\u001b[0;34m:\u001b[0m\u001b[0;34m\u001b[0m\u001b[0m\n",
      "\u001b[0;31mNameError\u001b[0m: name 'requests' is not defined"
     ]
    }
   ],
   "source": [
    "fname = mx.test_utils.download(url='http://data.mxnet.io/data/test_images.tar.gz', dirname='data', overwrite=False)\n",
    "tar = tarfile.open(fname)\n",
    "tar.extractall(path='./data')\n",
    "tar.close()"
   ]
  },
  {
   "cell_type": "markdown",
   "metadata": {},
   "source": [
    "#### Loading raw images\n",
    "`mx.image.imdecode` lets us load the images. `imdecode` provides a similar interface to ``OpenCV``.  \n",
    "\n",
    "**Note:** You will still need ``OpenCV``(not the CV2 Python library) installed to use `mx.image.imdecode`."
   ]
  },
  {
   "cell_type": "code",
   "execution_count": null,
   "metadata": {
    "collapsed": true
   },
   "outputs": [],
   "source": [
    "img = mx.image.imdecode(open('data/test_images/ILSVRC2012_val_00000001.JPEG', 'rb').read())\n",
    "plt.imshow(img.asnumpy()); plt.show()"
   ]
  },
  {
   "cell_type": "markdown",
   "metadata": {},
   "source": [
    "#### Image Transformations"
   ]
  },
  {
   "cell_type": "code",
   "execution_count": null,
   "metadata": {
    "collapsed": true
   },
   "outputs": [],
   "source": [
    "# resize to w x h\n",
    "tmp = mx.image.imresize(img, 100, 70)\n",
    "plt.imshow(tmp.asnumpy()); plt.show()"
   ]
  },
  {
   "cell_type": "code",
   "execution_count": null,
   "metadata": {
    "collapsed": true
   },
   "outputs": [],
   "source": [
    "# crop a random w x h region from image\n",
    "tmp, coord = mx.image.random_crop(img, (150, 200))\n",
    "print(coord)\n",
    "plt.imshow(tmp.asnumpy()); plt.show()"
   ]
  },
  {
   "cell_type": "markdown",
   "metadata": {},
   "source": [
    "### Loading Data using Image Iterators\n",
    "\n",
    "Before we see how to read data using the two built-in Image iterators,\n",
    " lets get a sample __Caltech 101__ dataset\n",
    " that contains 101 classes of objects and converts them into record io format.\n",
    "Download and unzip"
   ]
  },
  {
   "cell_type": "code",
   "execution_count": null,
   "metadata": {
    "collapsed": true
   },
   "outputs": [],
   "source": [
    "fname = mx.test_utils.download(url='http://www.vision.caltech.edu/Image_Datasets/Caltech101/101_ObjectCategories.tar.gz', dirname='data', overwrite=False)\n",
    "tar = tarfile.open(fname)\n",
    "tar.extractall(path='./data')\n",
    "tar.close()"
   ]
  },
  {
   "cell_type": "markdown",
   "metadata": {},
   "source": [
    "Let's take a look at the data. As you can see, under the root folder (./data/101_ObjectCategories) every category has a subfolder(./data/101_ObjectCategories/yin_yang).\n",
    "\n",
    "Now let's convert them into record io format using the `im2rec.py` utility script.\n",
    "First, we need to make a list that contains all the image files and their categories:"
   ]
  },
  {
   "cell_type": "code",
   "execution_count": null,
   "metadata": {
    "collapsed": true
   },
   "outputs": [],
   "source": [
    "os.system('python %s/tools/im2rec.py --list=1 --recursive=1 --shuffle=1 --test-ratio=0.2 data/caltech data/101_ObjectCategories'%os.environ['MXNET_HOME'])"
   ]
  },
  {
   "cell_type": "markdown",
   "metadata": {},
   "source": [
    "The resulting list file (./data/caltech_train.lst) is in the format `index\\t(one or more label)\\tpath`. In this case, there is only one label for each image but you can modify the list to add in more for multi-label training.\n",
    "\n",
    "Then we can use this list to create our record io file:"
   ]
  },
  {
   "cell_type": "code",
   "execution_count": null,
   "metadata": {
    "collapsed": true
   },
   "outputs": [],
   "source": [
    "os.system(\"python %s/tools/im2rec.py --num-thread=4 --pass-through=1 data/caltech data/101_ObjectCategories\"%os.environ['MXNET_HOME'])"
   ]
  },
  {
   "cell_type": "markdown",
   "metadata": {},
   "source": [
    "The record io files are now saved at here (./data)\n",
    "\n",
    "#### Using ImageRecordIter\n",
    "[__`ImageRecordIter`__](http://mxnet.io/api/python/io.html#mxnet.io.ImageRecordIter) can be used for loading image data saved in record io format. To use ImageRecordIter, simply create an instance by loading your record file:"
   ]
  },
  {
   "cell_type": "code",
   "execution_count": null,
   "metadata": {
    "collapsed": true
   },
   "outputs": [],
   "source": [
    "data_iter = mx.io.ImageRecordIter(\n",
    "    path_imgrec=\"./data/caltech.rec\", # the target record file\n",
    "    data_shape=(3, 227, 227), # output data shape. An 227x227 region will be cropped from the original image.\n",
    "    batch_size=4, # number of samples per batch\n",
    "    resize=256 # resize the shorter edge to 256 before cropping\n",
    "    # ... you can add more augumentation options as defined in ImageRecordIter.\n",
    "    )\n",
    "data_iter.reset()\n",
    "batch = data_iter.next()\n",
    "data = batch.data[0]\n",
    "for i in range(4):\n",
    "    plt.subplot(1,4,i+1)\n",
    "    plt.imshow(data[i].asnumpy().astype(np.uint8).transpose((1,2,0)))\n",
    "plt.show()"
   ]
  },
  {
   "cell_type": "markdown",
   "metadata": {},
   "source": [
    "#### Using ImageIter\n",
    "[__ImageIter__](http://mxnet.io/api/python/io.html#mxnet.io.ImageIter) is a flexible interface that supports loading of images in both RecordIO and Raw format."
   ]
  },
  {
   "cell_type": "code",
   "execution_count": null,
   "metadata": {
    "collapsed": true
   },
   "outputs": [],
   "source": [
    "data_iter = mx.image.ImageIter(batch_size=4, data_shape=(3, 227, 227),\n",
    "                              path_imgrec=\"./data/caltech.rec\",\n",
    "                              path_imgidx=\"./data/caltech.idx\" )\n",
    "data_iter.reset()\n",
    "batch = data_iter.next()\n",
    "data = batch.data[0]\n",
    "for i in range(4):\n",
    "    plt.subplot(1,4,i+1)\n",
    "    plt.imshow(data[i].asnumpy().astype(np.uint8).transpose((1,2,0)))\n",
    "plt.show()"
   ]
  },
  {
   "cell_type": "markdown",
   "metadata": {},
   "source": [
    "\n",
    "<!-- INSERT SOURCE DOWNLOAD BUTTONS -->\n",
    "\n"
   ]
  }
 ],
 "metadata": {
  "display_name": "",
  "kernelspec": {
   "display_name": "Python 3",
   "language": "python",
   "name": "python3"
  },
  "language_info": {
   "codemirror_mode": {
    "name": "ipython",
    "version": 3
   },
   "file_extension": ".py",
   "mimetype": "text/x-python",
   "name": "python",
   "nbconvert_exporter": "python",
   "pygments_lexer": "ipython3",
   "version": "3.6.1"
  },
  "name": ""
 },
 "nbformat": 4,
 "nbformat_minor": 2
}
