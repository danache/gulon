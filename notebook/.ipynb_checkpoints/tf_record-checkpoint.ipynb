{
 "cells": [
  {
   "cell_type": "code",
   "execution_count": 1,
   "metadata": {
    "collapsed": true
   },
   "outputs": [],
   "source": [
    "import numpy as np\n",
    "import cv2\n",
    "import os\n",
    "import matplotlib.pyplot as plt\n",
    "import random\n",
    "import time\n",
    "from skimage import transform\n",
    "import scipy.misc as scm\n",
    "import tensorflow as tf\n",
    "import tensorlayer as tl\n",
    "import pandas as pd"
   ]
  },
  {
   "cell_type": "code",
   "execution_count": null,
   "metadata": {
    "collapsed": true
   },
   "outputs": [],
   "source": [
    "    def generageRecord(self,imgdir,label_dir,out_record):\n",
    "        label = pd.read_json(label_dir)\n",
    "        for index, row in label.iterrows():\n",
    "            anno = row[\"human_annotations\"]\n",
    "            img_path = imgdir + row[\"image_id\"] + \".jpg\"\n",
    "            img = cv2.imread(img_path)\n",
    "            w, h = img.shape[1], img.shape[0]\n",
    "\n",
    "            for key in anno.keys():\n",
    "                if (anno[key][0] >= anno[key][2] or anno[key][1] >= anno[key][3]):\n",
    "                    print(\"error!\")\n",
    "                    print(img_path)\n",
    "                    flag = False\n",
    "                    break\n",
    "                strs += '0' + \"\\t\"\n",
    "                for i in range(4):\n",
    "                    if i % 2 == 0:\n",
    "                        strs += \"%.8f\" % float(anno[key][i] / w) + \"\\t\"\n",
    "                    else:\n",
    "                        strs += \"%.8f\" % float(anno[key][i] / h) + \"\\t\"\n",
    "\n",
    "        return None"
   ]
  }
 ],
 "metadata": {
  "kernelspec": {
   "display_name": "Python 3",
   "language": "python",
   "name": "python3"
  },
  "language_info": {
   "codemirror_mode": {
    "name": "ipython",
    "version": 3
   },
   "file_extension": ".py",
   "mimetype": "text/x-python",
   "name": "python",
   "nbconvert_exporter": "python",
   "pygments_lexer": "ipython3",
   "version": "3.6.1"
  }
 },
 "nbformat": 4,
 "nbformat_minor": 2
}
