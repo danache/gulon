{
 "cells": [
  {
   "cell_type": "code",
   "execution_count": 2,
   "metadata": {
    "collapsed": true
   },
   "outputs": [],
   "source": [
    "import numpy as np\n",
    "import mxnet as mx"
   ]
  },
  {
   "cell_type": "code",
   "execution_count": 9,
   "metadata": {
    "collapsed": true
   },
   "outputs": [],
   "source": [
    "x = mx.nd.ones((2,1,64,64))\n",
    "y = mx.nd.ones((2,1,64,64))\n",
    "z = mx.nd.ones((2,1,64,64))"
   ]
  },
  {
   "cell_type": "code",
   "execution_count": 11,
   "metadata": {},
   "outputs": [
    {
     "ename": "AssertionError",
     "evalue": "Positional arguments must be Symbol instances, but got \n[[[[ 1.  1.  1. ...,  1.  1.  1.]\n   [ 1.  1.  1. ...,  1.  1.  1.]\n   [ 1.  1.  1. ...,  1.  1.  1.]\n   ..., \n   [ 1.  1.  1. ...,  1.  1.  1.]\n   [ 1.  1.  1. ...,  1.  1.  1.]\n   [ 1.  1.  1. ...,  1.  1.  1.]]]\n\n\n [[[ 1.  1.  1. ...,  1.  1.  1.]\n   [ 1.  1.  1. ...,  1.  1.  1.]\n   [ 1.  1.  1. ...,  1.  1.  1.]\n   ..., \n   [ 1.  1.  1. ...,  1.  1.  1.]\n   [ 1.  1.  1. ...,  1.  1.  1.]\n   [ 1.  1.  1. ...,  1.  1.  1.]]]]\n<NDArray 2x1x64x64 @cpu(0)>",
     "output_type": "error",
     "traceback": [
      "\u001b[0;31m---------------------------------------------------------------------------\u001b[0m",
      "\u001b[0;31mAssertionError\u001b[0m                            Traceback (most recent call last)",
      "\u001b[0;32m<ipython-input-11-dea6a9904ec0>\u001b[0m in \u001b[0;36m<module>\u001b[0;34m()\u001b[0m\n\u001b[0;32m----> 1\u001b[0;31m \u001b[0mmx\u001b[0m\u001b[0;34m.\u001b[0m\u001b[0msymbol\u001b[0m\u001b[0;34m.\u001b[0m\u001b[0mconcat\u001b[0m\u001b[0;34m(\u001b[0m\u001b[0mx\u001b[0m\u001b[0;34m,\u001b[0m\u001b[0my\u001b[0m\u001b[0;34m,\u001b[0m\u001b[0mz\u001b[0m\u001b[0;34m,\u001b[0m\u001b[0mdim\u001b[0m\u001b[0;34m=\u001b[0m\u001b[0;36m1\u001b[0m\u001b[0;34m)\u001b[0m\u001b[0;34m\u001b[0m\u001b[0m\n\u001b[0m",
      "\u001b[0;32m/home/dan/.conda/envs/tensorflow/lib/python3.6/site-packages/mxnet/symbol/op.py\u001b[0m in \u001b[0;36mconcat\u001b[0;34m(*data, **kwargs)\u001b[0m\n",
      "\u001b[0;31mAssertionError\u001b[0m: Positional arguments must be Symbol instances, but got \n[[[[ 1.  1.  1. ...,  1.  1.  1.]\n   [ 1.  1.  1. ...,  1.  1.  1.]\n   [ 1.  1.  1. ...,  1.  1.  1.]\n   ..., \n   [ 1.  1.  1. ...,  1.  1.  1.]\n   [ 1.  1.  1. ...,  1.  1.  1.]\n   [ 1.  1.  1. ...,  1.  1.  1.]]]\n\n\n [[[ 1.  1.  1. ...,  1.  1.  1.]\n   [ 1.  1.  1. ...,  1.  1.  1.]\n   [ 1.  1.  1. ...,  1.  1.  1.]\n   ..., \n   [ 1.  1.  1. ...,  1.  1.  1.]\n   [ 1.  1.  1. ...,  1.  1.  1.]\n   [ 1.  1.  1. ...,  1.  1.  1.]]]]\n<NDArray 2x1x64x64 @cpu(0)>"
     ]
    }
   ],
   "source": [
    "mx.symbol.concat(x,y,z,dim=1)"
   ]
  },
  {
   "cell_type": "code",
   "execution_count": 19,
   "metadata": {},
   "outputs": [
    {
     "ename": "AssertionError",
     "evalue": "Positional arguments must be Symbol instances, but got (<Symbol a>, <Symbol b>, <Symbol c>)",
     "output_type": "error",
     "traceback": [
      "\u001b[0;31m---------------------------------------------------------------------------\u001b[0m",
      "\u001b[0;31mAssertionError\u001b[0m                            Traceback (most recent call last)",
      "\u001b[0;32m<ipython-input-19-d81081c5a774>\u001b[0m in \u001b[0;36m<module>\u001b[0;34m()\u001b[0m\n\u001b[1;32m      3\u001b[0m \u001b[0mc\u001b[0m \u001b[0;34m=\u001b[0m \u001b[0mmx\u001b[0m\u001b[0;34m.\u001b[0m\u001b[0msym\u001b[0m\u001b[0;34m.\u001b[0m\u001b[0mvar\u001b[0m\u001b[0;34m(\u001b[0m\u001b[0;34m'c'\u001b[0m\u001b[0;34m)\u001b[0m\u001b[0;34m\u001b[0m\u001b[0m\n\u001b[1;32m      4\u001b[0m \u001b[0me\u001b[0m \u001b[0;34m=\u001b[0m \u001b[0;34m(\u001b[0m\u001b[0ma\u001b[0m\u001b[0;34m,\u001b[0m\u001b[0mb\u001b[0m\u001b[0;34m,\u001b[0m\u001b[0mc\u001b[0m\u001b[0;34m)\u001b[0m\u001b[0;34m\u001b[0m\u001b[0m\n\u001b[0;32m----> 5\u001b[0;31m \u001b[0md\u001b[0m\u001b[0;34m=\u001b[0m\u001b[0mmx\u001b[0m\u001b[0;34m.\u001b[0m\u001b[0msymbol\u001b[0m\u001b[0;34m.\u001b[0m\u001b[0mconcat\u001b[0m\u001b[0;34m(\u001b[0m\u001b[0me\u001b[0m\u001b[0;34m,\u001b[0m\u001b[0mdim\u001b[0m\u001b[0;34m=\u001b[0m\u001b[0;36m1\u001b[0m\u001b[0;34m)\u001b[0m\u001b[0;34m\u001b[0m\u001b[0m\n\u001b[0m",
      "\u001b[0;32m/home/dan/.conda/envs/tensorflow/lib/python3.6/site-packages/mxnet/symbol/op.py\u001b[0m in \u001b[0;36mconcat\u001b[0;34m(*data, **kwargs)\u001b[0m\n",
      "\u001b[0;31mAssertionError\u001b[0m: Positional arguments must be Symbol instances, but got (<Symbol a>, <Symbol b>, <Symbol c>)"
     ]
    }
   ],
   "source": [
    "a = mx.sym.var('a')\n",
    "b = mx.sym.var('b')\n",
    "c = mx.sym.var('c')\n",
    "e = (a,b,c)\n",
    "d=mx.symbol.concat(e,dim=1)"
   ]
  },
  {
   "cell_type": "code",
   "execution_count": 15,
   "metadata": {
    "collapsed": true
   },
   "outputs": [],
   "source": [
    "arg_shapes, out_shapes, aux_shapes = d.infer_shape(a=(1,1,64,64), b=(1,1,64,64),c=(1,1,64,64),)"
   ]
  },
  {
   "cell_type": "code",
   "execution_count": 16,
   "metadata": {},
   "outputs": [
    {
     "data": {
      "text/plain": [
       "[(1, 3, 64, 64)]"
      ]
     },
     "execution_count": 16,
     "metadata": {},
     "output_type": "execute_result"
    }
   ],
   "source": [
    "out_shapes"
   ]
  },
  {
   "cell_type": "code",
   "execution_count": null,
   "metadata": {
    "collapsed": true
   },
   "outputs": [],
   "source": [
    "|"
   ]
  }
 ],
 "metadata": {
  "kernelspec": {
   "display_name": "Python 3",
   "language": "python",
   "name": "python3"
  },
  "language_info": {
   "codemirror_mode": {
    "name": "ipython",
    "version": 3
   },
   "file_extension": ".py",
   "mimetype": "text/x-python",
   "name": "python",
   "nbconvert_exporter": "python",
   "pygments_lexer": "ipython3",
   "version": "3.6.1"
  }
 },
 "nbformat": 4,
 "nbformat_minor": 2
}
