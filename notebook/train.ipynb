{
 "cells": [
  {
   "cell_type": "code",
   "execution_count": 6,
   "metadata": {
    "collapsed": true
   },
   "outputs": [],
   "source": [
    "import os\n",
    "os.chdir('/home/dan/gulon') "
   ]
  },
  {
   "cell_type": "code",
   "execution_count": 7,
   "metadata": {},
   "outputs": [],
   "source": [
    "import argparse\n",
    "#import tools.find_mxnet\n",
    "import mxnet as mx\n",
    "import os\n",
    "import sys\n",
    "import logging\n",
    "import opt\n",
    "from model.hg_attention import createModel\n",
    "from iterator import  hgIter"
   ]
  },
  {
   "cell_type": "code",
   "execution_count": 8,
   "metadata": {
    "collapsed": true
   },
   "outputs": [],
   "source": [
    "def train_net():\n",
    "    ctx = [mx.gpu(int(i)) for i in opt.gpus.split(',') if i.strip()]\n",
    "    ctx = [mx.cpu()] if not ctx else ctx\n",
    "    logging.basicConfig()\n",
    "    logger = logging.getLogger()\n",
    "    logger.setLevel(logging.INFO)\n",
    "\n",
    "    train_iter = hgIter(path_imgrec=opt.train_path, data_shape=opt.data_shape, batch_size=opt.batch_size,max_rotate_angle=30,\n",
    "                       mean_pixels=opt.mean_pixels,color_jitter=20)\n",
    "\n",
    "\n",
    "    # if opt.val_path:\n",
    "    #     val_iter = hgIter(path_imgrec=opt.val_path, data_shape=opt.data_shape, batch_size=opt.batch_size,max_rotate_angle=30,\n",
    "    #                     mean_pixels=opt.mean_pixels,color_jitter=20)\n",
    "    # else:\n",
    "    #     val_iter = None\n",
    "    data =  mx.sym.Variable('data')\n",
    "    net = createModel(data)\n",
    "    #net = mx.symbol.Convolution(data=data, num_filter=64, kernel=7, stride=1, pad=3, name=\"conv1\")\n",
    "    #net = mx.symbol.FullyConnected(data=net,num_hidden=46,name='fc')\n",
    "    #net = mx.sym.SoftmaxOutput(data=net, name='softmax')\n",
    "    mod = mx.mod.Module(symbol=net,\n",
    "                        context=ctx,\n",
    "                        logger=logger,\n",
    "                        label_names=('label',)\n",
    "                        )\n",
    "    print(train_iter.provide_data)\n",
    "    print(train_iter.provide_label)\n",
    "    mod.bind(data_shapes=train_iter.provide_data, label_shapes=train_iter.provide_label)\n",
    "    mod.init_params(initializer= mx.init.Xavier(rnd_type='gaussian', factor_type=\"in\", magnitude=2) )\n",
    "    mod.init_optimizer(optimizer=mx.optimizer.RMSProp(learning_rate=2.5e-4))\n",
    "    metric = mx.metric.create(mx.metric.MSE())\n",
    "\n",
    "    for epoch in range(5):\n",
    "        train_iter.reset()\n",
    "        metric.reset()\n",
    "        for batch in train_iter:\n",
    "            mod.forward(batch, is_train=True)  # compute predictions\n",
    "            mod.update_metric(metric, batch.label)  # accumulate prediction accuracy\n",
    "            mod.backward()  # compute gradients\n",
    "            mod.update()  # update parameters\n",
    "        print('Epoch %d, Training %s' % (epoch, metric.get()))"
   ]
  },
  {
   "cell_type": "code",
   "execution_count": 9,
   "metadata": {},
   "outputs": [
    {
     "name": "stdout",
     "output_type": "stream",
     "text": [
      "[DataDesc[data,(2, 3, 256, 256),<class 'numpy.float32'>,NCHW]]\n",
      "[('label', (2, 14, 64, 64))]\n"
     ]
    },
    {
     "name": "stderr",
     "output_type": "stream",
     "text": [
      "/home/dan/.conda/envs/tensorflow/lib/python3.6/site-packages/mxnet/module/base_module.py:53: UserWarning: \u001b[91mYou created Module with Module(..., label_names=['label']) but input with name 'label' is not found in symbol.list_arguments(). Did you mean one of:\n",
      "\tdata\u001b[0m\n",
      "  warnings.warn(msg)\n"
     ]
    },
    {
     "ename": "RuntimeError",
     "evalue": "simple_bind error. Arguments:\ndata: (2, 3, 256, 256)\nlabel: (2, 14, 64, 64)\nError in operator conv1: [16:28:21] src/operator/./convolution-inl.h:446: Check failed: dshp.ndim() == 3U (4 vs. 3) Input data should be 3D in batch-num_filter-x\n\nStack trace returned 10 entries:\n[bt] (0) /home/dan/.conda/envs/tensorflow/lib/python3.6/site-packages/mxnet/libmxnet.so(+0x1f7a8c) [0x7f22b2aa8a8c]\n[bt] (1) /home/dan/.conda/envs/tensorflow/lib/python3.6/site-packages/mxnet/libmxnet.so(+0x11c0ab0) [0x7f22b3a71ab0]\n[bt] (2) /home/dan/.conda/envs/tensorflow/lib/python3.6/site-packages/mxnet/libmxnet.so(+0x113aff7) [0x7f22b39ebff7]\n[bt] (3) /home/dan/.conda/envs/tensorflow/lib/python3.6/site-packages/mxnet/libmxnet.so(+0xf7fae7) [0x7f22b3830ae7]\n[bt] (4) /home/dan/.conda/envs/tensorflow/lib/python3.6/site-packages/mxnet/libmxnet.so(+0xf817cb) [0x7f22b38327cb]\n[bt] (5) /home/dan/.conda/envs/tensorflow/lib/python3.6/site-packages/mxnet/libmxnet.so(+0xf69b42) [0x7f22b381ab42]\n[bt] (6) /home/dan/.conda/envs/tensorflow/lib/python3.6/site-packages/mxnet/libmxnet.so(+0xf6a704) [0x7f22b381b704]\n[bt] (7) /home/dan/.conda/envs/tensorflow/lib/python3.6/site-packages/mxnet/libmxnet.so(MXExecutorSimpleBind+0x22c0) [0x7f22b3794a40]\n[bt] (8) /home/dan/.conda/envs/tensorflow/lib/python3.6/lib-dynload/_ctypes.cpython-36m-x86_64-linux-gnu.so(ffi_call_unix64+0x4c) [0x7f22f9114550]\n[bt] (9) /home/dan/.conda/envs/tensorflow/lib/python3.6/lib-dynload/_ctypes.cpython-36m-x86_64-linux-gnu.so(ffi_call+0x1f5) [0x7f22f9113cf5]\n",
     "output_type": "error",
     "traceback": [
      "\u001b[0;31m---------------------------------------------------------------------------\u001b[0m",
      "\u001b[0;31mMXNetError\u001b[0m                                Traceback (most recent call last)",
      "\u001b[0;32m/home/dan/.conda/envs/tensorflow/lib/python3.6/site-packages/mxnet/symbol/symbol.py\u001b[0m in \u001b[0;36msimple_bind\u001b[0;34m(self, ctx, grad_req, type_dict, stype_dict, group2ctx, shared_arg_names, shared_exec, shared_buffer, **kwargs)\u001b[0m\n\u001b[1;32m   1483\u001b[0m                                                  \u001b[0mshared_exec_handle\u001b[0m\u001b[0;34m,\u001b[0m\u001b[0;34m\u001b[0m\u001b[0m\n\u001b[0;32m-> 1484\u001b[0;31m                                                  ctypes.byref(exe_handle)))\n\u001b[0m\u001b[1;32m   1485\u001b[0m         \u001b[0;32mexcept\u001b[0m \u001b[0mMXNetError\u001b[0m \u001b[0;32mas\u001b[0m \u001b[0me\u001b[0m\u001b[0;34m:\u001b[0m\u001b[0;34m\u001b[0m\u001b[0m\n",
      "\u001b[0;32m/home/dan/.conda/envs/tensorflow/lib/python3.6/site-packages/mxnet/base.py\u001b[0m in \u001b[0;36mcheck_call\u001b[0;34m(ret)\u001b[0m\n\u001b[1;32m    142\u001b[0m     \u001b[0;32mif\u001b[0m \u001b[0mret\u001b[0m \u001b[0;34m!=\u001b[0m \u001b[0;36m0\u001b[0m\u001b[0;34m:\u001b[0m\u001b[0;34m\u001b[0m\u001b[0m\n\u001b[0;32m--> 143\u001b[0;31m         \u001b[0;32mraise\u001b[0m \u001b[0mMXNetError\u001b[0m\u001b[0;34m(\u001b[0m\u001b[0mpy_str\u001b[0m\u001b[0;34m(\u001b[0m\u001b[0m_LIB\u001b[0m\u001b[0;34m.\u001b[0m\u001b[0mMXGetLastError\u001b[0m\u001b[0;34m(\u001b[0m\u001b[0;34m)\u001b[0m\u001b[0;34m)\u001b[0m\u001b[0;34m)\u001b[0m\u001b[0;34m\u001b[0m\u001b[0m\n\u001b[0m\u001b[1;32m    144\u001b[0m \u001b[0;34m\u001b[0m\u001b[0m\n",
      "\u001b[0;31mMXNetError\u001b[0m: Error in operator conv1: [16:28:21] src/operator/./convolution-inl.h:446: Check failed: dshp.ndim() == 3U (4 vs. 3) Input data should be 3D in batch-num_filter-x\n\nStack trace returned 10 entries:\n[bt] (0) /home/dan/.conda/envs/tensorflow/lib/python3.6/site-packages/mxnet/libmxnet.so(+0x1f7a8c) [0x7f22b2aa8a8c]\n[bt] (1) /home/dan/.conda/envs/tensorflow/lib/python3.6/site-packages/mxnet/libmxnet.so(+0x11c0ab0) [0x7f22b3a71ab0]\n[bt] (2) /home/dan/.conda/envs/tensorflow/lib/python3.6/site-packages/mxnet/libmxnet.so(+0x113aff7) [0x7f22b39ebff7]\n[bt] (3) /home/dan/.conda/envs/tensorflow/lib/python3.6/site-packages/mxnet/libmxnet.so(+0xf7fae7) [0x7f22b3830ae7]\n[bt] (4) /home/dan/.conda/envs/tensorflow/lib/python3.6/site-packages/mxnet/libmxnet.so(+0xf817cb) [0x7f22b38327cb]\n[bt] (5) /home/dan/.conda/envs/tensorflow/lib/python3.6/site-packages/mxnet/libmxnet.so(+0xf69b42) [0x7f22b381ab42]\n[bt] (6) /home/dan/.conda/envs/tensorflow/lib/python3.6/site-packages/mxnet/libmxnet.so(+0xf6a704) [0x7f22b381b704]\n[bt] (7) /home/dan/.conda/envs/tensorflow/lib/python3.6/site-packages/mxnet/libmxnet.so(MXExecutorSimpleBind+0x22c0) [0x7f22b3794a40]\n[bt] (8) /home/dan/.conda/envs/tensorflow/lib/python3.6/lib-dynload/_ctypes.cpython-36m-x86_64-linux-gnu.so(ffi_call_unix64+0x4c) [0x7f22f9114550]\n[bt] (9) /home/dan/.conda/envs/tensorflow/lib/python3.6/lib-dynload/_ctypes.cpython-36m-x86_64-linux-gnu.so(ffi_call+0x1f5) [0x7f22f9113cf5]\n",
      "\nDuring handling of the above exception, another exception occurred:\n",
      "\u001b[0;31mRuntimeError\u001b[0m                              Traceback (most recent call last)",
      "\u001b[0;32m<ipython-input-9-fc1078f2d504>\u001b[0m in \u001b[0;36m<module>\u001b[0;34m()\u001b[0m\n\u001b[0;32m----> 1\u001b[0;31m \u001b[0mtrain_net\u001b[0m\u001b[0;34m(\u001b[0m\u001b[0;34m)\u001b[0m\u001b[0;34m\u001b[0m\u001b[0m\n\u001b[0m",
      "\u001b[0;32m<ipython-input-8-06b90c723ff1>\u001b[0m in \u001b[0;36mtrain_net\u001b[0;34m()\u001b[0m\n\u001b[1;32m     27\u001b[0m     \u001b[0mprint\u001b[0m\u001b[0;34m(\u001b[0m\u001b[0mtrain_iter\u001b[0m\u001b[0;34m.\u001b[0m\u001b[0mprovide_data\u001b[0m\u001b[0;34m)\u001b[0m\u001b[0;34m\u001b[0m\u001b[0m\n\u001b[1;32m     28\u001b[0m     \u001b[0mprint\u001b[0m\u001b[0;34m(\u001b[0m\u001b[0mtrain_iter\u001b[0m\u001b[0;34m.\u001b[0m\u001b[0mprovide_label\u001b[0m\u001b[0;34m)\u001b[0m\u001b[0;34m\u001b[0m\u001b[0m\n\u001b[0;32m---> 29\u001b[0;31m     \u001b[0mmod\u001b[0m\u001b[0;34m.\u001b[0m\u001b[0mbind\u001b[0m\u001b[0;34m(\u001b[0m\u001b[0mdata_shapes\u001b[0m\u001b[0;34m=\u001b[0m\u001b[0mtrain_iter\u001b[0m\u001b[0;34m.\u001b[0m\u001b[0mprovide_data\u001b[0m\u001b[0;34m,\u001b[0m \u001b[0mlabel_shapes\u001b[0m\u001b[0;34m=\u001b[0m\u001b[0mtrain_iter\u001b[0m\u001b[0;34m.\u001b[0m\u001b[0mprovide_label\u001b[0m\u001b[0;34m)\u001b[0m\u001b[0;34m\u001b[0m\u001b[0m\n\u001b[0m\u001b[1;32m     30\u001b[0m     \u001b[0mmod\u001b[0m\u001b[0;34m.\u001b[0m\u001b[0minit_params\u001b[0m\u001b[0;34m(\u001b[0m\u001b[0minitializer\u001b[0m\u001b[0;34m=\u001b[0m \u001b[0mmx\u001b[0m\u001b[0;34m.\u001b[0m\u001b[0minit\u001b[0m\u001b[0;34m.\u001b[0m\u001b[0mXavier\u001b[0m\u001b[0;34m(\u001b[0m\u001b[0mrnd_type\u001b[0m\u001b[0;34m=\u001b[0m\u001b[0;34m'gaussian'\u001b[0m\u001b[0;34m,\u001b[0m \u001b[0mfactor_type\u001b[0m\u001b[0;34m=\u001b[0m\u001b[0;34m\"in\"\u001b[0m\u001b[0;34m,\u001b[0m \u001b[0mmagnitude\u001b[0m\u001b[0;34m=\u001b[0m\u001b[0;36m2\u001b[0m\u001b[0;34m)\u001b[0m \u001b[0;34m)\u001b[0m\u001b[0;34m\u001b[0m\u001b[0m\n\u001b[1;32m     31\u001b[0m     \u001b[0mmod\u001b[0m\u001b[0;34m.\u001b[0m\u001b[0minit_optimizer\u001b[0m\u001b[0;34m(\u001b[0m\u001b[0moptimizer\u001b[0m\u001b[0;34m=\u001b[0m\u001b[0mmx\u001b[0m\u001b[0;34m.\u001b[0m\u001b[0moptimizer\u001b[0m\u001b[0;34m.\u001b[0m\u001b[0mRMSProp\u001b[0m\u001b[0;34m(\u001b[0m\u001b[0mlearning_rate\u001b[0m\u001b[0;34m=\u001b[0m\u001b[0;36m2.5e-4\u001b[0m\u001b[0;34m)\u001b[0m\u001b[0;34m)\u001b[0m\u001b[0;34m\u001b[0m\u001b[0m\n",
      "\u001b[0;32m/home/dan/.conda/envs/tensorflow/lib/python3.6/site-packages/mxnet/module/module.py\u001b[0m in \u001b[0;36mbind\u001b[0;34m(self, data_shapes, label_shapes, for_training, inputs_need_grad, force_rebind, shared_module, grad_req)\u001b[0m\n\u001b[1;32m    415\u001b[0m                                                      \u001b[0mfixed_param_names\u001b[0m\u001b[0;34m=\u001b[0m\u001b[0mself\u001b[0m\u001b[0;34m.\u001b[0m\u001b[0m_fixed_param_names\u001b[0m\u001b[0;34m,\u001b[0m\u001b[0;34m\u001b[0m\u001b[0m\n\u001b[1;32m    416\u001b[0m                                                      \u001b[0mgrad_req\u001b[0m\u001b[0;34m=\u001b[0m\u001b[0mgrad_req\u001b[0m\u001b[0;34m,\u001b[0m\u001b[0;34m\u001b[0m\u001b[0m\n\u001b[0;32m--> 417\u001b[0;31m                                                      state_names=self._state_names)\n\u001b[0m\u001b[1;32m    418\u001b[0m         \u001b[0mself\u001b[0m\u001b[0;34m.\u001b[0m\u001b[0m_total_exec_bytes\u001b[0m \u001b[0;34m=\u001b[0m \u001b[0mself\u001b[0m\u001b[0;34m.\u001b[0m\u001b[0m_exec_group\u001b[0m\u001b[0;34m.\u001b[0m\u001b[0m_total_exec_bytes\u001b[0m\u001b[0;34m\u001b[0m\u001b[0m\n\u001b[1;32m    419\u001b[0m         \u001b[0;32mif\u001b[0m \u001b[0mshared_module\u001b[0m \u001b[0;32mis\u001b[0m \u001b[0;32mnot\u001b[0m \u001b[0;32mNone\u001b[0m\u001b[0;34m:\u001b[0m\u001b[0;34m\u001b[0m\u001b[0m\n",
      "\u001b[0;32m/home/dan/.conda/envs/tensorflow/lib/python3.6/site-packages/mxnet/module/executor_group.py\u001b[0m in \u001b[0;36m__init__\u001b[0;34m(self, symbol, contexts, workload, data_shapes, label_shapes, param_names, for_training, inputs_need_grad, shared_group, logger, fixed_param_names, grad_req, state_names)\u001b[0m\n\u001b[1;32m    229\u001b[0m         \u001b[0mself\u001b[0m\u001b[0;34m.\u001b[0m\u001b[0mnum_outputs\u001b[0m \u001b[0;34m=\u001b[0m \u001b[0mlen\u001b[0m\u001b[0;34m(\u001b[0m\u001b[0mself\u001b[0m\u001b[0;34m.\u001b[0m\u001b[0msymbol\u001b[0m\u001b[0;34m.\u001b[0m\u001b[0mlist_outputs\u001b[0m\u001b[0;34m(\u001b[0m\u001b[0;34m)\u001b[0m\u001b[0;34m)\u001b[0m\u001b[0;34m\u001b[0m\u001b[0m\n\u001b[1;32m    230\u001b[0m \u001b[0;34m\u001b[0m\u001b[0m\n\u001b[0;32m--> 231\u001b[0;31m         \u001b[0mself\u001b[0m\u001b[0;34m.\u001b[0m\u001b[0mbind_exec\u001b[0m\u001b[0;34m(\u001b[0m\u001b[0mdata_shapes\u001b[0m\u001b[0;34m,\u001b[0m \u001b[0mlabel_shapes\u001b[0m\u001b[0;34m,\u001b[0m \u001b[0mshared_group\u001b[0m\u001b[0;34m)\u001b[0m\u001b[0;34m\u001b[0m\u001b[0m\n\u001b[0m\u001b[1;32m    232\u001b[0m \u001b[0;34m\u001b[0m\u001b[0m\n\u001b[1;32m    233\u001b[0m     \u001b[0;32mdef\u001b[0m \u001b[0mdecide_slices\u001b[0m\u001b[0;34m(\u001b[0m\u001b[0mself\u001b[0m\u001b[0;34m,\u001b[0m \u001b[0mdata_shapes\u001b[0m\u001b[0;34m)\u001b[0m\u001b[0;34m:\u001b[0m\u001b[0;34m\u001b[0m\u001b[0m\n",
      "\u001b[0;32m/home/dan/.conda/envs/tensorflow/lib/python3.6/site-packages/mxnet/module/executor_group.py\u001b[0m in \u001b[0;36mbind_exec\u001b[0;34m(self, data_shapes, label_shapes, shared_group, reshape)\u001b[0m\n\u001b[1;32m    325\u001b[0m             \u001b[0;32melse\u001b[0m\u001b[0;34m:\u001b[0m\u001b[0;34m\u001b[0m\u001b[0m\n\u001b[1;32m    326\u001b[0m                 self.execs.append(self._bind_ith_exec(i, data_shapes_i, label_shapes_i,\n\u001b[0;32m--> 327\u001b[0;31m                                                       shared_group))\n\u001b[0m\u001b[1;32m    328\u001b[0m \u001b[0;34m\u001b[0m\u001b[0m\n\u001b[1;32m    329\u001b[0m         \u001b[0mself\u001b[0m\u001b[0;34m.\u001b[0m\u001b[0mdata_shapes\u001b[0m \u001b[0;34m=\u001b[0m \u001b[0mdata_shapes\u001b[0m\u001b[0;34m\u001b[0m\u001b[0m\n",
      "\u001b[0;32m/home/dan/.conda/envs/tensorflow/lib/python3.6/site-packages/mxnet/module/executor_group.py\u001b[0m in \u001b[0;36m_bind_ith_exec\u001b[0;34m(self, i, data_shapes, label_shapes, shared_group)\u001b[0m\n\u001b[1;32m    601\u001b[0m                                            \u001b[0mtype_dict\u001b[0m\u001b[0;34m=\u001b[0m\u001b[0minput_types\u001b[0m\u001b[0;34m,\u001b[0m \u001b[0mshared_arg_names\u001b[0m\u001b[0;34m=\u001b[0m\u001b[0mself\u001b[0m\u001b[0;34m.\u001b[0m\u001b[0mparam_names\u001b[0m\u001b[0;34m,\u001b[0m\u001b[0;34m\u001b[0m\u001b[0m\n\u001b[1;32m    602\u001b[0m                                            \u001b[0mshared_exec\u001b[0m\u001b[0;34m=\u001b[0m\u001b[0mshared_exec\u001b[0m\u001b[0;34m,\u001b[0m\u001b[0;34m\u001b[0m\u001b[0m\n\u001b[0;32m--> 603\u001b[0;31m                                            shared_buffer=shared_data_arrays, **input_shapes)\n\u001b[0m\u001b[1;32m    604\u001b[0m         \u001b[0mself\u001b[0m\u001b[0;34m.\u001b[0m\u001b[0m_total_exec_bytes\u001b[0m \u001b[0;34m+=\u001b[0m \u001b[0mint\u001b[0m\u001b[0;34m(\u001b[0m\u001b[0mexecutor\u001b[0m\u001b[0;34m.\u001b[0m\u001b[0mdebug_str\u001b[0m\u001b[0;34m(\u001b[0m\u001b[0;34m)\u001b[0m\u001b[0;34m.\u001b[0m\u001b[0msplit\u001b[0m\u001b[0;34m(\u001b[0m\u001b[0;34m'\\n'\u001b[0m\u001b[0;34m)\u001b[0m\u001b[0;34m[\u001b[0m\u001b[0;34m-\u001b[0m\u001b[0;36m3\u001b[0m\u001b[0;34m]\u001b[0m\u001b[0;34m.\u001b[0m\u001b[0msplit\u001b[0m\u001b[0;34m(\u001b[0m\u001b[0;34m)\u001b[0m\u001b[0;34m[\u001b[0m\u001b[0;36m1\u001b[0m\u001b[0;34m]\u001b[0m\u001b[0;34m)\u001b[0m\u001b[0;34m\u001b[0m\u001b[0m\n\u001b[1;32m    605\u001b[0m         \u001b[0;32mreturn\u001b[0m \u001b[0mexecutor\u001b[0m\u001b[0;34m\u001b[0m\u001b[0m\n",
      "\u001b[0;32m/home/dan/.conda/envs/tensorflow/lib/python3.6/site-packages/mxnet/symbol/symbol.py\u001b[0m in \u001b[0;36msimple_bind\u001b[0;34m(self, ctx, grad_req, type_dict, stype_dict, group2ctx, shared_arg_names, shared_exec, shared_buffer, **kwargs)\u001b[0m\n\u001b[1;32m   1488\u001b[0m                 \u001b[0merror_msg\u001b[0m \u001b[0;34m+=\u001b[0m \u001b[0;34m\"%s: %s\\n\"\u001b[0m \u001b[0;34m%\u001b[0m \u001b[0;34m(\u001b[0m\u001b[0mk\u001b[0m\u001b[0;34m,\u001b[0m \u001b[0mv\u001b[0m\u001b[0;34m)\u001b[0m\u001b[0;34m\u001b[0m\u001b[0m\n\u001b[1;32m   1489\u001b[0m             \u001b[0merror_msg\u001b[0m \u001b[0;34m+=\u001b[0m \u001b[0;34m\"%s\"\u001b[0m \u001b[0;34m%\u001b[0m \u001b[0me\u001b[0m\u001b[0;34m\u001b[0m\u001b[0m\n\u001b[0;32m-> 1490\u001b[0;31m             \u001b[0;32mraise\u001b[0m \u001b[0mRuntimeError\u001b[0m\u001b[0;34m(\u001b[0m\u001b[0merror_msg\u001b[0m\u001b[0;34m)\u001b[0m\u001b[0;34m\u001b[0m\u001b[0m\n\u001b[0m\u001b[1;32m   1491\u001b[0m \u001b[0;34m\u001b[0m\u001b[0m\n\u001b[1;32m   1492\u001b[0m         \u001b[0;31m# update shared_buffer\u001b[0m\u001b[0;34m\u001b[0m\u001b[0;34m\u001b[0m\u001b[0m\n",
      "\u001b[0;31mRuntimeError\u001b[0m: simple_bind error. Arguments:\ndata: (2, 3, 256, 256)\nlabel: (2, 14, 64, 64)\nError in operator conv1: [16:28:21] src/operator/./convolution-inl.h:446: Check failed: dshp.ndim() == 3U (4 vs. 3) Input data should be 3D in batch-num_filter-x\n\nStack trace returned 10 entries:\n[bt] (0) /home/dan/.conda/envs/tensorflow/lib/python3.6/site-packages/mxnet/libmxnet.so(+0x1f7a8c) [0x7f22b2aa8a8c]\n[bt] (1) /home/dan/.conda/envs/tensorflow/lib/python3.6/site-packages/mxnet/libmxnet.so(+0x11c0ab0) [0x7f22b3a71ab0]\n[bt] (2) /home/dan/.conda/envs/tensorflow/lib/python3.6/site-packages/mxnet/libmxnet.so(+0x113aff7) [0x7f22b39ebff7]\n[bt] (3) /home/dan/.conda/envs/tensorflow/lib/python3.6/site-packages/mxnet/libmxnet.so(+0xf7fae7) [0x7f22b3830ae7]\n[bt] (4) /home/dan/.conda/envs/tensorflow/lib/python3.6/site-packages/mxnet/libmxnet.so(+0xf817cb) [0x7f22b38327cb]\n[bt] (5) /home/dan/.conda/envs/tensorflow/lib/python3.6/site-packages/mxnet/libmxnet.so(+0xf69b42) [0x7f22b381ab42]\n[bt] (6) /home/dan/.conda/envs/tensorflow/lib/python3.6/site-packages/mxnet/libmxnet.so(+0xf6a704) [0x7f22b381b704]\n[bt] (7) /home/dan/.conda/envs/tensorflow/lib/python3.6/site-packages/mxnet/libmxnet.so(MXExecutorSimpleBind+0x22c0) [0x7f22b3794a40]\n[bt] (8) /home/dan/.conda/envs/tensorflow/lib/python3.6/lib-dynload/_ctypes.cpython-36m-x86_64-linux-gnu.so(ffi_call_unix64+0x4c) [0x7f22f9114550]\n[bt] (9) /home/dan/.conda/envs/tensorflow/lib/python3.6/lib-dynload/_ctypes.cpython-36m-x86_64-linux-gnu.so(ffi_call+0x1f5) [0x7f22f9113cf5]\n"
     ]
    }
   ],
   "source": [
    "train_net()"
   ]
  },
  {
   "cell_type": "code",
   "execution_count": null,
   "metadata": {
    "collapsed": true
   },
   "outputs": [],
   "source": []
  },
  {
   "cell_type": "code",
   "execution_count": null,
   "metadata": {
    "collapsed": true
   },
   "outputs": [],
   "source": []
  }
 ],
 "metadata": {
  "kernelspec": {
   "display_name": "Python 3",
   "language": "python",
   "name": "python3"
  },
  "language_info": {
   "codemirror_mode": {
    "name": "ipython",
    "version": 3
   },
   "file_extension": ".py",
   "mimetype": "text/x-python",
   "name": "python",
   "nbconvert_exporter": "python",
   "pygments_lexer": "ipython3",
   "version": "3.6.1"
  }
 },
 "nbformat": 4,
 "nbformat_minor": 2
}
