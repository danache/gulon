{
 "cells": [
  {
   "cell_type": "code",
   "execution_count": 1,
   "metadata": {
    "collapsed": true
   },
   "outputs": [],
   "source": [
    "import pandas as pd\n",
    "import cv2\n",
    "import os"
   ]
  },
  {
   "cell_type": "code",
   "execution_count": 2,
   "metadata": {
    "collapsed": true
   },
   "outputs": [],
   "source": [
    "img_name = [\"ff0025574be642b231354d49556304bd39a9b88a.jpg\",\n",
    "            \"c681fcce2fab08692d11100fd8195353cf27a631.jpg\"]\n",
    "home_src = \"/home/dan/test_img/\""
   ]
  },
  {
   "cell_type": "code",
   "execution_count": 56,
   "metadata": {
    "collapsed": true
   },
   "outputs": [],
   "source": [
    "json_file = \"/home/dan/test_img/keypoint_train_annotations_20170909.json\""
   ]
  },
  {
   "cell_type": "code",
   "execution_count": 57,
   "metadata": {
    "collapsed": true
   },
   "outputs": [],
   "source": [
    "label = pd.read_json(json_file)"
   ]
  },
  {
   "cell_type": "code",
   "execution_count": 84,
   "metadata": {},
   "outputs": [
    {
     "data": {
      "text/html": [
       "<div>\n",
       "<style>\n",
       "    .dataframe thead tr:only-child th {\n",
       "        text-align: right;\n",
       "    }\n",
       "\n",
       "    .dataframe thead th {\n",
       "        text-align: left;\n",
       "    }\n",
       "\n",
       "    .dataframe tbody tr th {\n",
       "        vertical-align: top;\n",
       "    }\n",
       "</style>\n",
       "<table border=\"1\" class=\"dataframe\">\n",
       "  <thead>\n",
       "    <tr style=\"text-align: right;\">\n",
       "      <th></th>\n",
       "      <th>human_annotations</th>\n",
       "      <th>image_id</th>\n",
       "      <th>keypoint_annotations</th>\n",
       "      <th>url</th>\n",
       "    </tr>\n",
       "  </thead>\n",
       "  <tbody>\n",
       "    <tr>\n",
       "      <th>188230</th>\n",
       "      <td>{'human1': [116, 38, 389, 749]}</td>\n",
       "      <td>ff0025574be642b231354d49556304bd39a9b88a</td>\n",
       "      <td>{'human1': [164, 191, 1, 253, 294, 1, 324, 350...</td>\n",
       "      <td>http://i3.hexun.com/2017-03-30/188673454.jpg</td>\n",
       "    </tr>\n",
       "  </tbody>\n",
       "</table>\n",
       "</div>"
      ],
      "text/plain": [
       "                      human_annotations  \\\n",
       "188230  {'human1': [116, 38, 389, 749]}   \n",
       "\n",
       "                                        image_id  \\\n",
       "188230  ff0025574be642b231354d49556304bd39a9b88a   \n",
       "\n",
       "                                     keypoint_annotations  \\\n",
       "188230  {'human1': [164, 191, 1, 253, 294, 1, 324, 350...   \n",
       "\n",
       "                                                 url  \n",
       "188230  http://i3.hexun.com/2017-03-30/188673454.jpg  "
      ]
     },
     "execution_count": 84,
     "metadata": {},
     "output_type": "execute_result"
    }
   ],
   "source": [
    "label[label['image_id'] == \"ff0025574be642b231354d49556304bd39a9b88a\"]"
   ]
  },
  {
   "cell_type": "code",
   "execution_count": 3,
   "metadata": {
    "collapsed": true
   },
   "outputs": [],
   "source": [
    "def getKey(img_name, ):\n",
    "    img_name = os.path.splitext(img_name)[0]\n",
    "    \n",
    "    #print(img_name)\n",
    "    now_img = pd.Series(label[label['image_id'] ==img_name][\"keypoint_annotations\"])\n",
    "    #print (now_img)\n",
    "    b = None\n",
    "    for key in now_img.keys():\n",
    "        dic = now_img[key]\n",
    "        for key2 in dic.keys():\n",
    "            b = dic[key2]\n",
    "    return b"
   ]
  },
  {
   "cell_type": "code",
   "execution_count": 90,
   "metadata": {
    "collapsed": true
   },
   "outputs": [],
   "source": [
    "def generateLst(img_all, home_src):\n",
    "    train_lst = open(\"/home/dan/test_img/train.lst\",\"w\")\n",
    "    allnum = 0\n",
    "    for img_ in img_all:\n",
    "        img_path = os.path.join(home_src,img_)\n",
    "        \n",
    "        b = getKey(img_)\n",
    "        img = cv2.imread(img_path)\n",
    "        strs = str(allnum)+\"\\t2\\t3\\t\"+str(img.shape[1])+\"\\t\"+str(img.shape[0])+\"\\t\"\n",
    "        num = 0\n",
    "        for i in range(len(b)):\n",
    "            if i % 3 == 2:\n",
    "                continue\n",
    "            if i % 3 == 0:\n",
    "                strs = strs + str(num) + \"\\t\"\n",
    "                num += 1\n",
    "                tmpf = \"%.5f\" % float(b[i] / img.shape[1])\n",
    "                strs = strs +tmpf+ \"\\t\"\n",
    "            else:\n",
    "                tmpf = \"%.5f\" % float(b[i] / img.shape[0])\n",
    "                strs = strs +tmpf+ \"\\t\"                \n",
    "        strs = strs[:-1]\n",
    "        train_lst.write(strs)\n",
    "        train_lst.write(\"\\t\")\n",
    "        train_lst.write(img_path)\n",
    "        train_lst.write(\"\\n\")\n",
    "    train_lst.close()"
   ]
  },
  {
   "cell_type": "code",
   "execution_count": 91,
   "metadata": {
    "collapsed": true
   },
   "outputs": [],
   "source": [
    "generateLst(img_name,home_src)"
   ]
  },
  {
   "cell_type": "code",
   "execution_count": 88,
   "metadata": {},
   "outputs": [
    {
     "name": "stdout",
     "output_type": "stream",
     "text": [
      "0\t2\t3\t750\t500\t\n"
     ]
    }
   ],
   "source": [
    "train_lst = open(\"/home/dan/test_img/train.lst\",\"w\")\n",
    "img_path = \"/home/dan/test_img/ff0025574be642b231354d49556304bd39a9b88a.jpg\"\n",
    "img = cv2.imread(img_path)\n",
    "strs = \"0\\t2\\t3\\t750\\t500\\t\" \n",
    "lst = [0,1,2,3,4]\n",
    "#\"0\\t\"+\"0\\t\"+\"3\\t\"#+str(img.shape[1])+\"\\t\"+str(img.shape[0]) + \"\\t\"\n",
    "print (strs)\n",
    "num = 0\n",
    "for i in range(len(b)):\n",
    "    if i % 3 == 2:\n",
    "        lst.append(1)\n",
    "        continue\n",
    "    if i % 3 == 0:\n",
    "        strs = strs + str(num) + \"\\t\"\n",
    "        num += 1\n",
    "        tmpf = \"%.5f\" % float(b[i] / img.shape[1])\n",
    "        lst.append(float(b[i] / img.shape[1]))\n",
    "        strs = strs +tmpf+ \"\\t\"\n",
    "    else:\n",
    "        tmpf = \"%.5f\" % float(b[i] / img.shape[0])\n",
    "        lst.append(float(b[i] / img.shape[0]))\n",
    "        strs = strs +tmpf+ \"\\t\"                \n",
    "    \n",
    "strs = strs[:-1]\n",
    "train_lst.write(strs)\n",
    "train_lst.write(\"\\t\")\n",
    "train_lst.write(img_path)\n",
    "train_lst.write(\"\\n\")\n",
    "train_lst.close()"
   ]
  },
  {
   "cell_type": "markdown",
   "metadata": {},
   "source": [
    "img_path = \"/home/dan/test_img/ff0025574be642b231354d49556304bd39a9b88a.jpg\"\n",
    "img = cv2.imread(img_path)\n",
    "\n",
    "tx = 0\n",
    "ty = 0\n",
    "item = b\n",
    "for i in range(len(item)):\n",
    "    if i % 3 == 0:\n",
    "        tx = item[i]\n",
    "    if i % 3 == 1:\n",
    "        ty = item[i]\n",
    "    if tx != 0 and ty != 0:\n",
    "        cv2.circle(tmp2, (int(tx ), int(ty)), 5, (0, 0, 255), -1)\n",
    "        tx = 0\n",
    "        ty = 0\n",
    "cv2.imwrite(\"/home/dan/test_img/test2.jpg\", tmp2)"
   ]
  },
  {
   "cell_type": "code",
   "execution_count": null,
   "metadata": {
    "collapsed": true
   },
   "outputs": [],
   "source": []
  },
  {
   "cell_type": "code",
   "execution_count": 26,
   "metadata": {},
   "outputs": [
    {
     "data": {
      "text/plain": [
       "'0\\t2\\t3\\t750\\t500\\t0\\t0.32800\\t0.38200\\t1\\t0.50600\\t0.58800\\t2\\t0.64800\\t0.70000\\t3\\t0.58000\\t0.34600\\t4\\t0.49400\\t0.52000\\t5\\t0.36800\\t0.63400\\t6\\t0.34000\\t0.77000\\t7\\t0.37200\\t1.07000\\t8\\t0.33200\\t1.35000\\t9\\t0.49800\\t0.76000\\t10\\t0.53400\\t1.05000\\t11\\t0.56800\\t1.34000\\t12\\t0.50000\\t0.11400\\t13\\t0.47000\\t0.32600'"
      ]
     },
     "execution_count": 26,
     "metadata": {},
     "output_type": "execute_result"
    }
   ],
   "source": [
    "strs"
   ]
  },
  {
   "cell_type": "code",
   "execution_count": 11,
   "metadata": {
    "collapsed": true
   },
   "outputs": [],
   "source": []
  },
  {
   "cell_type": "code",
   "execution_count": null,
   "metadata": {
    "collapsed": true
   },
   "outputs": [],
   "source": []
  }
 ],
 "metadata": {
  "kernelspec": {
   "display_name": "tensorflow",
   "language": "python",
   "name": "tensorflow"
  },
  "language_info": {
   "codemirror_mode": {
    "name": "ipython",
    "version": 3
   },
   "file_extension": ".py",
   "mimetype": "text/x-python",
   "name": "python",
   "nbconvert_exporter": "python",
   "pygments_lexer": "ipython3",
   "version": "3.6.1"
  }
 },
 "nbformat": 4,
 "nbformat_minor": 2
}
